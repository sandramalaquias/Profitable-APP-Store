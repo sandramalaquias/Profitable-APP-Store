{
 "cells": [
  {
   "attachments": {
    "image.png": {
     "image/png": "[encoded data removed]"
    }
   },
   "cell_type": "markdown",
   "metadata": {},
   "source": [
    "# Project 1 - DataQuest - Introduction to Python\n",
    "\n",
    "## Cleanning Data\n",
    "\n",
    "For this project, I'm going to work as data analysts for a company that builds Android and iOS mobile apps. \n",
    "\n",
    "The goal is to analyze data to help our developers understand what type of apps are likely to attract more users.\n",
    "To do this, I'll need to collect and analyze data about mobile apps available on Google Play and the App Store.\n",
    "\n",
    "Collecting data for over 4 million apps requires a significant amount of time and money, \n",
    "\n",
    "> Number of apps available in leading app stores as of 3rd quarter 2019  ([Link](https://www.statista.com/statistics/276623/number-of-apps-available-in-leading-app-stores/))\n",
    "\n",
    "![image.png](attachment:image.png)\n",
    "\n",
    "\n",
    "To avoid spending resources on collecting new data ourselves, I should first try to see if I can find any relevant existing data at no cost. Luckily, these are two data sets that seem suitable for my goals (both find in Kaggle):\n",
    "\n",
    "\n",
    "* A **data set** containing data about approximately 10,000 Android apps from Google Play; the data was collected in August 2018. You can download the data set directly from this [link](https://www.kaggle.com/lava18/google-play-store-apps).\n",
    "* A **data set** containing data about approximately 7,000 iOS apps from the App Store; the data was collected in July 2017. You can download the data set directly from this [link](https://www.kaggle.com/ramamet4/app-store-apple-data-set-10k-apps).\n",
    "\n",
    "\n"
   ]
  },
  {
   "cell_type": "code",
   "execution_count": 1,
   "metadata": {
    "ExecuteTime": {
     "end_time": "2019-11-28T17:05:13.071814Z",
     "start_time": "2019-11-28T17:05:13.045248Z"
    }
   },
   "outputs": [],
   "source": [
    "def explore_data(dataset, start, end, rows_and_columns=False):\n",
    "    dataset_slice = dataset[start:end]    \n",
    "    for row in dataset_slice:\n",
    "        print(row)\n",
    "        print('\\n') # adds a new (empty) line after each row\n",
    "\n",
    "    if rows_and_columns:\n",
    "        print('Number of rows:', len(dataset))\n",
    "        print('Number of columns:', len(dataset[0]))"
   ]
  },
  {
   "cell_type": "code",
   "execution_count": 2,
   "metadata": {
    "ExecuteTime": {
     "end_time": "2019-11-28T17:05:13.087217Z",
     "start_time": "2019-11-28T17:05:13.077876Z"
    }
   },
   "outputs": [],
   "source": [
    "import csv\n",
    "from csv import reader\n",
    "from csv import writer"
   ]
  },
  {
   "cell_type": "code",
   "execution_count": 3,
   "metadata": {
    "ExecuteTime": {
     "end_time": "2019-11-28T17:05:13.102641Z",
     "start_time": "2019-11-28T17:05:13.089212Z"
    }
   },
   "outputs": [],
   "source": [
    "# AppStore file has Asia char \n",
    "import codecs"
   ]
  },
  {
   "cell_type": "code",
   "execution_count": 4,
   "metadata": {
    "ExecuteTime": {
     "end_time": "2019-11-28T17:05:13.117859Z",
     "start_time": "2019-11-28T17:05:13.106888Z"
    }
   },
   "outputs": [],
   "source": [
    "# TO indentifier Asia char\n",
    "import re"
   ]
  },
  {
   "cell_type": "code",
   "execution_count": 5,
   "metadata": {
    "ExecuteTime": {
     "end_time": "2019-11-28T17:05:13.133451Z",
     "start_time": "2019-11-28T17:05:13.122639Z"
    }
   },
   "outputs": [],
   "source": [
    "# To use sort funcion\n",
    "import operator"
   ]
  },
  {
   "cell_type": "code",
   "execution_count": 6,
   "metadata": {
    "ExecuteTime": {
     "end_time": "2019-11-28T17:05:13.148600Z",
     "start_time": "2019-11-28T17:05:13.136145Z"
    }
   },
   "outputs": [],
   "source": [
    "# to create a free list\n",
    "import copy"
   ]
  },
  {
   "cell_type": "code",
   "execution_count": 7,
   "metadata": {
    "ExecuteTime": {
     "end_time": "2019-11-28T17:05:13.163909Z",
     "start_time": "2019-11-28T17:05:13.150951Z"
    }
   },
   "outputs": [],
   "source": [
    "opened_ios = codecs.open(r'C:\\Users\\Sandra\\Documents\\Dataquest\\AppleStore.csv','r','utf-8')"
   ]
  },
  {
   "cell_type": "code",
   "execution_count": 8,
   "metadata": {
    "ExecuteTime": {
     "end_time": "2019-11-28T17:05:13.179358Z",
     "start_time": "2019-11-28T17:05:13.165960Z"
    }
   },
   "outputs": [],
   "source": [
    "opened_gpl = codecs.open(r'C:\\Users\\Sandra\\Documents\\Dataquest\\googleplaystore.csv','r','utf-8')"
   ]
  },
  {
   "cell_type": "code",
   "execution_count": 9,
   "metadata": {
    "ExecuteTime": {
     "end_time": "2019-11-28T17:05:13.194595Z",
     "start_time": "2019-11-28T17:05:13.180358Z"
    }
   },
   "outputs": [],
   "source": [
    "read_ios = reader(opened_ios)\n",
    "read_gpl = reader(opened_gpl)\n"
   ]
  },
  {
   "cell_type": "code",
   "execution_count": 10,
   "metadata": {
    "ExecuteTime": {
     "end_time": "2019-11-28T17:05:13.573830Z",
     "start_time": "2019-11-28T17:05:13.196593Z"
    }
   },
   "outputs": [],
   "source": [
    "data_ios_all = list(read_ios)\n",
    "data_gpl_all = list(read_gpl)"
   ]
  },
  {
   "cell_type": "code",
   "execution_count": 11,
   "metadata": {
    "ExecuteTime": {
     "end_time": "2019-11-28T17:05:13.589874Z",
     "start_time": "2019-11-28T17:05:13.575827Z"
    }
   },
   "outputs": [],
   "source": [
    "opened_gpl.close()\n",
    "opened_ios.close()"
   ]
  },
  {
   "cell_type": "code",
   "execution_count": 12,
   "metadata": {
    "ExecuteTime": {
     "end_time": "2019-11-28T17:05:13.605303Z",
     "start_time": "2019-11-28T17:05:13.595550Z"
    }
   },
   "outputs": [],
   "source": [
    "data_ios_header = data_ios_all[0]\n",
    "data_gpl_header = data_gpl_all[0]\n"
   ]
  },
  {
   "cell_type": "code",
   "execution_count": 13,
   "metadata": {
    "ExecuteTime": {
     "end_time": "2019-11-28T17:05:13.636725Z",
     "start_time": "2019-11-28T17:05:13.611674Z"
    }
   },
   "outputs": [
    {
     "name": "stdout",
     "output_type": "stream",
     "text": [
      "['1', '281656475', 'PAC-MAN Premium', '100788224', 'USD', '3.99', '21292', '26', '4', '4.5', '6.3.5', '4+', 'Games', '38', '5', '10', '1']\n",
      "\n",
      "\n",
      "['2', '281796108', 'Evernote - stay organized', '158578688', 'USD', '0', '161065', '26', '4', '3.5', '8.2.2', '4+', 'Productivity', '37', '5', '23', '1']\n",
      "\n",
      "\n",
      "['3', '281940292', 'WeatherBug - Local Weather, Radar, Maps, Alerts', '100524032', 'USD', '0', '188583', '2822', '3.5', '4.5', '5.0.0', '4+', 'Weather', '37', '5', '3', '1']\n",
      "\n",
      "\n",
      "['4', '282614216', 'eBay: Best App to Buy, Sell, Save! Online Shopping', '128512000', 'USD', '0', '262241', '649', '4', '4.5', '5.10.0', '12+', 'Shopping', '37', '5', '9', '1']\n",
      "\n",
      "\n",
      "['5', '282935706', 'Bible', '92774400', 'USD', '0', '985920', '5320', '4.5', '5', '7.5.1', '4+', 'Reference', '37', '5', '45', '1']\n",
      "\n",
      "\n",
      "Number of rows: 7197\n",
      "Number of columns: 17\n"
     ]
    }
   ],
   "source": [
    "#exbindo dados do arquivo do ios (app_store)\n",
    "\n",
    "explore_data (data_ios_all[1:], 0, 5, rows_and_columns=True)"
   ]
  },
  {
   "cell_type": "code",
   "execution_count": 14,
   "metadata": {
    "ExecuteTime": {
     "end_time": "2019-11-28T17:05:13.667805Z",
     "start_time": "2019-11-28T17:05:13.643877Z"
    }
   },
   "outputs": [
    {
     "name": "stdout",
     "output_type": "stream",
     "text": [
      "['Photo Editor & Candy Camera & Grid & ScrapBook', 'ART_AND_DESIGN', '4.1', '159', '19M', '10,000+', 'Free', '0', 'Everyone', 'Art & Design', 'January 7, 2018', '1.0.0', '4.0.3 and up']\n",
      "\n",
      "\n",
      "['Coloring book moana', 'ART_AND_DESIGN', '3.9', '967', '14M', '500,000+', 'Free', '0', 'Everyone', 'Art & Design;Pretend Play', 'January 15, 2018', '2.0.0', '4.0.3 and up']\n",
      "\n",
      "\n",
      "['U Launcher Lite – FREE Live Cool Themes, Hide Apps', 'ART_AND_DESIGN', '4.7', '87510', '8.7M', '5,000,000+', 'Free', '0', 'Everyone', 'Art & Design', 'August 1, 2018', '1.2.4', '4.0.3 and up']\n",
      "\n",
      "\n",
      "['Sketch - Draw & Paint', 'ART_AND_DESIGN', '4.5', '215644', '25M', '50,000,000+', 'Free', '0', 'Teen', 'Art & Design', 'June 8, 2018', 'Varies with device', '4.2 and up']\n",
      "\n",
      "\n",
      "['Pixel Draw - Number Art Coloring Book', 'ART_AND_DESIGN', '4.3', '967', '2.8M', '100,000+', 'Free', '0', 'Everyone', 'Art & Design;Creativity', 'June 20, 2018', '1.1', '4.4 and up']\n",
      "\n",
      "\n",
      "Number of rows: 10841\n",
      "Number of columns: 13\n"
     ]
    }
   ],
   "source": [
    "# exibindo dados do arquivo do GPL (google_play)\n",
    "explore_data(data_gpl_all[1:], 0, 5, rows_and_columns=True)"
   ]
  },
  {
   "cell_type": "code",
   "execution_count": 15,
   "metadata": {
    "ExecuteTime": {
     "end_time": "2019-11-28T17:05:13.700140Z",
     "start_time": "2019-11-28T17:05:13.671887Z"
    }
   },
   "outputs": [
    {
     "name": "stdout",
     "output_type": "stream",
     "text": [
      "0    = 1   <class 'str'>\n",
      "1   id = 281656475   <class 'str'>\n",
      "2   track_name = PAC-MAN Premium   <class 'str'>\n",
      "3   size_bytes = 100788224   <class 'str'>\n",
      "4   currency = USD   <class 'str'>\n",
      "5   price = 3.99   <class 'str'>\n",
      "6   rating_count_tot = 21292   <class 'str'>\n",
      "7   rating_count_ver = 26   <class 'str'>\n",
      "8   user_rating = 4   <class 'str'>\n",
      "9   user_rating_ver = 4.5   <class 'str'>\n",
      "10   ver = 6.3.5   <class 'str'>\n",
      "11   cont_rating = 4+   <class 'str'>\n",
      "12   prime_genre = Games   <class 'str'>\n",
      "13   sup_devices.num = 38   <class 'str'>\n",
      "14   ipadSc_urls.num = 5   <class 'str'>\n",
      "15   lang.num = 10   <class 'str'>\n",
      "16   vpp_lic = 1   <class 'str'>\n"
     ]
    }
   ],
   "source": [
    "# verificando os nomes das coluns no arquivo do ios\n",
    "\n",
    "for n in range(len(data_ios_header)):\n",
    "    print(n, ' ', data_ios_header[n], '=', data_ios_all[1][n], ' ',  type(data_ios_all[1][n]))"
   ]
  },
  {
   "cell_type": "code",
   "execution_count": 16,
   "metadata": {
    "ExecuteTime": {
     "end_time": "2019-11-28T17:05:13.732230Z",
     "start_time": "2019-11-28T17:05:13.704968Z"
    }
   },
   "outputs": [
    {
     "name": "stdout",
     "output_type": "stream",
     "text": [
      "0   App = Photo Editor & Candy Camera & Grid & ScrapBook   <class 'str'>\n",
      "1   Category = ART_AND_DESIGN   <class 'str'>\n",
      "2   Rating = 4.1   <class 'str'>\n",
      "3   Reviews = 159   <class 'str'>\n",
      "4   Size = 19M   <class 'str'>\n",
      "5   Installs = 10,000+   <class 'str'>\n",
      "6   Type = Free   <class 'str'>\n",
      "7   Price = 0   <class 'str'>\n",
      "8   Content Rating = Everyone   <class 'str'>\n",
      "9   Genres = Art & Design   <class 'str'>\n",
      "10   Last Updated = January 7, 2018   <class 'str'>\n",
      "11   Current Ver = 1.0.0   <class 'str'>\n",
      "12   Android Ver = 4.0.3 and up   <class 'str'>\n"
     ]
    }
   ],
   "source": [
    "# verificando os nomes das colunas no arquivo do google_pay (GPL)\n",
    "\n",
    "for n in range(len(data_gpl_all[0])):\n",
    "    print(n, ' ', data_gpl_all[0][n], '=', data_gpl_all[1][n], ' ',  type(data_gpl_all[1][n]))"
   ]
  },
  {
   "cell_type": "markdown",
   "metadata": {},
   "source": [
    "We only build apps for people who speak western languages and that are free to download and install, and our main source of revenue consists of in-app ads. \n",
    "\n",
    "This means that we need to appy a filter for free payment and western language (no Asian app will be considered)\n"
   ]
  },
  {
   "cell_type": "code",
   "execution_count": 17,
   "metadata": {
    "ExecuteTime": {
     "end_time": "2019-11-28T17:05:13.763424Z",
     "start_time": "2019-11-28T17:05:13.735273Z"
    }
   },
   "outputs": [],
   "source": [
    "# ---Payment filter for free\n",
    "def payment_free(pay_met):\n",
    "    fl_def_non_free = False\n",
    "    \n",
    "    if pay_met.replace('.', '', 1).isdigit():\n",
    "        pay_met_value = float(pay_met)\n",
    "        if pay_met_value != 0:\n",
    "            fl_def_non_free = True  \n",
    "        return fl_def_non_free\n",
    "                \n",
    "# ---Payment filter for string 'free' \n",
    "    fl_def_non_free = True\n",
    "    if ('free' in pay_met.lower()):\n",
    "        fl_def_non_free = False\n",
    "        \n",
    "    return fl_def_non_free\n",
    "       "
   ]
  },
  {
   "cell_type": "code",
   "execution_count": 18,
   "metadata": {
    "ExecuteTime": {
     "end_time": "2019-11-28T17:05:13.827584Z",
     "start_time": "2019-11-28T17:05:13.803182Z"
    }
   },
   "outputs": [],
   "source": [
    "# Asian Charateres in String\n",
    "\n",
    "def non_asc(str_asc):\n",
    "    fl_def_non_asc = False\n",
    "        \n",
    "    for a in range(len(str_asc)):\n",
    "        if re.search(\"[\\uac00-\\ud7a3]\", str_asc[a]) or re.search(\"[\\u3040-\\u30ff]\", str_asc[a]) or re.search(\"[\\u4e00-\\u9FFF]\", str_asc[a]):\n",
    "            a = len(str_asc) + 1\n",
    "            fl_def_non_asc = True\n",
    "                    \n",
    "                \n",
    "    return fl_def_non_asc             \n"
   ]
  },
  {
   "cell_type": "markdown",
   "metadata": {},
   "source": [
    "A rotina abaixo irá:\n",
    "> aplicar os filtos nos arquivos de entrada \n",
    "\n",
    "> Separar os arquivos de entrada entre:\n",
    "        - registros removidos (rem_data)\n",
    "        - registros selecionados (out_data)\n",
    "        - registros duplicados se houver (dup_data)\n",
    "        "
   ]
  },
  {
   "cell_type": "code",
   "execution_count": 19,
   "metadata": {
    "ExecuteTime": {
     "end_time": "2019-11-28T17:05:13.890469Z",
     "start_time": "2019-11-28T17:05:13.836278Z"
    }
   },
   "outputs": [],
   "source": [
    "def clean_data(list_data, colunm_asc, colunm_pay):\n",
    "    ac_non_asc = 0\n",
    "    ac_non_free = 0\n",
    "    ac_dup = 0\n",
    "     \n",
    "# rem_data = error data (non English or non Free)  and flg_data = string's and flags\n",
    "    rem_data = []\n",
    "    flg_data = []\n",
    "    \n",
    "    dict_dup = {}\n",
    "    \n",
    "    \n",
    "# dup_data = valid data but in duplicity APP\n",
    "    dup_data = []\n",
    "\n",
    "# out_data = output data\n",
    "    out_data = []\n",
    "    out_data.append(list_data[0])\n",
    "\n",
    "  \n",
    "    for list_value in list_data[1:]:\n",
    "        str_asc = list_value[colunm_asc]\n",
    "        pay_met = list_value[colunm_pay]\n",
    "        \n",
    "                          \n",
    " #  Asia characteres filter\n",
    "        fl_non_asc = non_asc(str_asc)                            \n",
    "                        \n",
    "# ---Payment filter for 0 or free                \n",
    "        fl_non_free = payment_free(pay_met)\n",
    "                    \n",
    "# --- identify duplicity for future analys \n",
    "#  este comando é muito mais rápido que um for loop\n",
    "        fl_dup = False\n",
    "        if fl_non_asc is False and fl_non_free is False:\n",
    "            if str_asc in dict_dup:\n",
    "                fl_dup = True\n",
    "                dict_dup[str_asc] += 1\n",
    "                dup_data.append(list_value)\n",
    "            else:\n",
    "                dict_dup[str_asc] = 1 \n",
    "                           \n",
    "                                       \n",
    "# constuindo nova string \n",
    "        if fl_non_asc or fl_non_free:\n",
    "            rem_data.append(list_value)\n",
    "            list_flag = [str_asc, fl_non_asc, pay_met, fl_non_free]\n",
    "            flg_data.append(list_flag)\n",
    "            \n",
    "        elif fl_dup is False:\n",
    "            out_data.append(list_value) \n",
    "            \n",
    "# para total de controle            \n",
    "        if fl_non_asc:\n",
    "            ac_non_asc += 1\n",
    "        elif fl_non_free:\n",
    "            ac_non_free += 1\n",
    "                    \n",
    "# retirar duplicidade do arquivo de saída\n",
    "    for list_value in out_data[1:]:\n",
    "        str_asc = list_value[colunm_asc]\n",
    "        if dict_dup[str_asc] > 1:\n",
    "            dup_data.append(list_value)\n",
    "            out_data.remove(list_value)\n",
    "            ac_dup += 1\n",
    "        \n",
    "           \n",
    "    print ('Total for no Englis app: ', ac_non_asc)\n",
    "    print ('total for no Free app: ', ac_non_free)\n",
    "    print ('Total for String Duplicity: ', ac_dup)\n",
    "    print ('\\n')\n",
    "    print ('Total Start:', len(list_data))\n",
    "    print ('Total Remove error:', len(rem_data))\n",
    "    print ('Total Remove Dupl:', len(dup_data))\n",
    "    print ('Total End:', len(out_data))\n",
    "         \n",
    "    return out_data, rem_data, flg_data, dup_data\n"
   ]
  },
  {
   "cell_type": "code",
   "execution_count": 20,
   "metadata": {
    "ExecuteTime": {
     "end_time": "2019-11-28T17:05:15.066752Z",
     "start_time": "2019-11-28T17:05:13.894855Z"
    },
    "scrolled": false
   },
   "outputs": [
    {
     "name": "stdout",
     "output_type": "stream",
     "text": [
      "Total for no Englis app:  1049\n",
      "total for no Free app:  2957\n",
      "Total for String Duplicity:  2\n",
      "\n",
      "\n",
      "Total Start: 7198\n",
      "Total Remove error: 4006\n",
      "Total Remove Dupl: 4\n",
      "Total End: 3188\n"
     ]
    }
   ],
   "source": [
    "# arquivos para ios\n",
    "\n",
    "data_ios, data_ios_remove, data_ios_flag, data_ios_dup = clean_data(data_ios_all, 2, 5)  "
   ]
  },
  {
   "cell_type": "code",
   "execution_count": 21,
   "metadata": {
    "ExecuteTime": {
     "end_time": "2019-11-28T17:05:15.097866Z",
     "start_time": "2019-11-28T17:05:15.070700Z"
    }
   },
   "outputs": [
    {
     "name": "stdout",
     "output_type": "stream",
     "text": [
      "Dados válidos para Ios\n",
      "['2', '281796108', 'Evernote - stay organized', '158578688', 'USD', '0', '161065', '26', '4', '3.5', '8.2.2', '4+', 'Productivity', '37', '5', '23', '1']\n",
      "['3', '281940292', 'WeatherBug - Local Weather, Radar, Maps, Alerts', '100524032', 'USD', '0', '188583', '2822', '3.5', '4.5', '5.0.0', '4+', 'Weather', '37', '5', '3', '1']\n",
      "\n",
      " Dados invalidos Ios\n",
      "['1', '281656475', 'PAC-MAN Premium', '100788224', 'USD', '3.99', '21292', '26', '4', '4.5', '6.3.5', '4+', 'Games', '38', '5', '10', '1']\n",
      "['6', '283619399', 'Shanghai Mahjong', '10485713', 'USD', '0.99', '8253', '5516', '4', '4', '1.8', '4+', 'Games', '47', '5', '1', '1']\n",
      "['9', '284666222', 'PCalc - The Best Calculator', '49250304', 'USD', '9.99', '1117', '4', '4.5', '5', '3.6.6', '4+', 'Utilities', '37', '5', '1', '1']\n",
      "\n",
      " Flags apurados Ios\n",
      "['PAC-MAN Premium', False, '3.99', True]\n",
      "['Shanghai Mahjong', False, '0.99', True]\n",
      "['PCalc - The Best Calculator', False, '9.99', True]\n",
      "\n",
      " Dupplicados\n",
      "['7579', '1089824278', 'VR Roller Coaster', '240964608', 'USD', '0', '67', '44', '3.5', '4', '0.81', '4+', 'Games', '38', '0', '1', '1']\n",
      "['10885', '1178454060', 'Mannequin Challenge', '59572224', 'USD', '0', '105', '58', '4', '4.5', '1.0.1', '4+', 'Games', '38', '5', '1', '1']\n",
      "['4000', '952877179', 'VR Roller Coaster', '169523200', 'USD', '0', '107', '102', '3.5', '3.5', '2.0.0', '4+', 'Games', '37', '5', '1', '1']\n"
     ]
    }
   ],
   "source": [
    "print ('Dados válidos para Ios')\n",
    "for i in range(1,3):\n",
    "    print (data_ios[i])\n",
    "    \n",
    "print ('\\n', 'Dados invalidos Ios')   \n",
    "for i in range(0,3):\n",
    "    print (data_ios_remove[i])\n",
    "    \n",
    "print ('\\n', 'Flags apurados Ios')   \n",
    "for i in range(0,3):\n",
    "    print (data_ios_flag[i])\n",
    "    \n",
    "print ('\\n', 'Dupplicados')   \n",
    "for i in range(0,3):\n",
    "    print (data_ios_dup[i])\n"
   ]
  },
  {
   "cell_type": "code",
   "execution_count": 22,
   "metadata": {
    "ExecuteTime": {
     "end_time": "2019-11-28T17:05:16.629626Z",
     "start_time": "2019-11-28T17:05:15.102000Z"
    },
    "scrolled": false
   },
   "outputs": [
    {
     "name": "stdout",
     "output_type": "stream",
     "text": [
      "Total for no Englis app:  28\n",
      "total for no Free app:  798\n",
      "Total for String Duplicity:  756\n",
      "\n",
      "\n",
      "Total Start: 10842\n",
      "Total Remove error: 826\n",
      "Total Remove Dupl: 1891\n",
      "Total End: 8125\n"
     ]
    }
   ],
   "source": [
    "#arquivos para gpl \n",
    "\n",
    "data_gpl, data_gpl_remove, data_gpl_flag, data_gpl_dup = clean_data(data_gpl_all, 0, 6)"
   ]
  },
  {
   "cell_type": "code",
   "execution_count": 23,
   "metadata": {
    "ExecuteTime": {
     "end_time": "2019-11-28T17:05:16.645626Z",
     "start_time": "2019-11-28T17:05:16.631620Z"
    }
   },
   "outputs": [
    {
     "name": "stdout",
     "output_type": "stream",
     "text": [
      "Dados válidos GPL\n",
      "['App', 'Category', 'Rating', 'Reviews', 'Size', 'Installs', 'Type', 'Price', 'Content Rating', 'Genres', 'Last Updated', 'Current Ver', 'Android Ver']\n",
      "['Photo Editor & Candy Camera & Grid & ScrapBook', 'ART_AND_DESIGN', '4.1', '159', '19M', '10,000+', 'Free', '0', 'Everyone', 'Art & Design', 'January 7, 2018', '1.0.0', '4.0.3 and up']\n",
      "['U Launcher Lite – FREE Live Cool Themes, Hide Apps', 'ART_AND_DESIGN', '4.7', '87510', '8.7M', '5,000,000+', 'Free', '0', 'Everyone', 'Art & Design', 'August 1, 2018', '1.2.4', '4.0.3 and up']\n",
      "\n",
      " Dados invalidos GPL\n",
      "['TurboScan: scan documents and receipts in PDF', 'BUSINESS', '4.7', '11442', '6.8M', '100,000+', 'Paid', '$4.99', 'Everyone', 'Business', 'March 25, 2018', '1.5.2', '4.0 and up']\n",
      "['Tiny Scanner Pro: PDF Doc Scan', 'BUSINESS', '4.8', '10295', '39M', '100,000+', 'Paid', '$4.99', 'Everyone', 'Business', 'April 11, 2017', '3.4.6', '3.0 and up']\n",
      "['TurboScan: scan documents and receipts in PDF', 'BUSINESS', '4.7', '11442', '6.8M', '100,000+', 'Paid', '$4.99', 'Everyone', 'Business', 'March 25, 2018', '1.5.2', '4.0 and up']\n",
      "\n",
      " Flags apurados GPL\n",
      "['TurboScan: scan documents and receipts in PDF', False, 'Paid', True]\n",
      "['Tiny Scanner Pro: PDF Doc Scan', False, 'Paid', True]\n",
      "['TurboScan: scan documents and receipts in PDF', False, 'Paid', True]\n",
      "\n",
      " Duplicados\n",
      "['Quick PDF Scanner + OCR FREE', 'BUSINESS', '4.2', '80805', 'Varies with device', '5,000,000+', 'Free', '0', 'Everyone', 'Business', 'February 26, 2018', 'Varies with device', '4.0.3 and up']\n",
      "['Box', 'BUSINESS', '4.2', '159872', 'Varies with device', '10,000,000+', 'Free', '0', 'Everyone', 'Business', 'July 31, 2018', 'Varies with device', 'Varies with device']\n",
      "['Google My Business', 'BUSINESS', '4.4', '70991', 'Varies with device', '5,000,000+', 'Free', '0', 'Everyone', 'Business', 'July 24, 2018', '2.19.0.204537701', '4.4 and up']\n"
     ]
    }
   ],
   "source": [
    "print ('Dados válidos GPL')\n",
    "for i in range(0,3):\n",
    "    print (data_gpl[i])\n",
    "    \n",
    "print ('\\n', 'Dados invalidos GPL')   \n",
    "for i in range(0,3):\n",
    "    print (data_gpl_remove[i])\n",
    "    \n",
    "print ('\\n', 'Flags apurados GPL')   \n",
    "for i in range(0,3):\n",
    "    print (data_gpl_flag[i])\n",
    "    \n",
    "    \n",
    "print ('\\n', 'Duplicados')   \n",
    "for i in range(0,3):\n",
    "    print (data_gpl_dup[i])\n",
    "\n",
    "\n",
    "    "
   ]
  },
  {
   "cell_type": "code",
   "execution_count": 24,
   "metadata": {
    "ExecuteTime": {
     "end_time": "2019-11-28T17:05:16.676952Z",
     "start_time": "2019-11-28T17:05:16.648214Z"
    }
   },
   "outputs": [
    {
     "name": "stdout",
     "output_type": "stream",
     "text": [
      "['10 Best Foods for You', 'HEALTH_AND_FITNESS', '4.0', '2490', '3.8M', '500,000+', 'Free', '0', 'Everyone 10+', 'Health & Fitness', 'February 17, 2017', '1.9', '2.3.3 and up']\n",
      "['10 Best Foods for You', 'HEALTH_AND_FITNESS', '4.0', '2490', '3.8M', '500,000+', 'Free', '0', 'Everyone 10+', 'Health & Fitness', 'February 17, 2017', '1.9', '2.3.3 and up']\n",
      "\n",
      "\n",
      "\n",
      "\n",
      "['10751', '1173990889', 'Mannequin Challenge', '109705216', 'USD', '0', '668', '87', '3', '3', '1.4', '9+', 'Games', '37', '4', '1', '1']\n",
      "['10885', '1178454060', 'Mannequin Challenge', '59572224', 'USD', '0', '105', '58', '4', '4.5', '1.0.1', '4+', 'Games', '38', '5', '1', '1']\n",
      "['4000', '952877179', 'VR Roller Coaster', '169523200', 'USD', '0', '107', '102', '3.5', '3.5', '2.0.0', '4+', 'Games', '37', '5', '1', '1']\n",
      "['7579', '1089824278', 'VR Roller Coaster', '240964608', 'USD', '0', '67', '44', '3.5', '4', '0.81', '4+', 'Games', '38', '0', '1', '1']\n"
     ]
    }
   ],
   "source": [
    "#  Para analisar os registros em duplicidade, precisamos classificar os arquivos \n",
    "#  todas as colunas\n",
    "\n",
    "data_gpl_dup = sorted(data_gpl_dup, key = operator.itemgetter(0, 1, 2, 3, 4, 5, 6, 7, 8, 9, 10, 11, 12))\n",
    "print (data_gpl_dup[0])\n",
    "print (data_gpl_dup[1])\n",
    "print ('\\n')\n",
    "\n",
    "data_ios_dup = sorted(data_ios_dup, key = operator.itemgetter(0, 1, 2, 3, 4, 5, 6, 7, 8, 9, 10, 11, 12, 13, 14, 15, 16))\n",
    "print ('\\n')\n",
    "print (data_ios_dup[0])\n",
    "print (data_ios_dup[1])\n",
    "print (data_ios_dup[2])\n",
    "print (data_ios_dup[3])\n",
    "\n"
   ]
  },
  {
   "cell_type": "code",
   "execution_count": 25,
   "metadata": {
    "ExecuteTime": {
     "end_time": "2019-11-28T17:05:16.691979Z",
     "start_time": "2019-11-28T17:05:16.679128Z"
    }
   },
   "outputs": [
    {
     "name": "stdout",
     "output_type": "stream",
     "text": [
      "1891   1443\n",
      "['10 Best Foods for You', 'HEALTH_AND_FITNESS', '4.0', '2490', '3.8M', '500,000+', 'Free', '0', 'Everyone 10+', 'Health & Fitness', 'February 17, 2017', '1.9', '2.3.3 and up']\n",
      "['1800 Contacts - Lens Store', 'MEDICAL', '4.7', '23160', '26M', '1,000,000+', 'Free', '0', 'Everyone', 'Medical', 'July 27, 2018', '7.4.1', '5.0 and up']\n"
     ]
    }
   ],
   "source": [
    "# conforme  visto acima, existem registros iguais no arquivo do google play. \n",
    "# Vamos retirar essas duplicidades gerando a lista _s\n",
    "\n",
    "# isso não ocorre com os dados do ios\n",
    "\n",
    "row_base = data_gpl_dup[0]\n",
    "data_gpl_dup_s = []\n",
    "\n",
    "for row in data_gpl_dup:\n",
    "    if row != row_base:\n",
    "        data_gpl_dup_s.append(row_base)\n",
    "        row_base = row\n",
    "\n",
    "# incluindo o ultimo registro do loop acima\n",
    "data_gpl_dup_s.append(row_base)      \n",
    "          \n",
    "print (len(data_gpl_dup), ' ', len(data_gpl_dup_s))\n",
    "print (data_gpl_dup_s[0])\n",
    "print (data_gpl_dup_s[1])   \n",
    "    "
   ]
  },
  {
   "cell_type": "code",
   "execution_count": 26,
   "metadata": {
    "ExecuteTime": {
     "end_time": "2019-11-28T17:05:16.707544Z",
     "start_time": "2019-11-28T17:05:16.695892Z"
    }
   },
   "outputs": [
    {
     "name": "stdout",
     "output_type": "stream",
     "text": [
      "8125   1443\n",
      "244\n"
     ]
    }
   ],
   "source": [
    "# os registros que resultaram sem repetição devem voltar para o arquivo base\n",
    "# vamos começar verificando a quantidade de registros nessa situação \n",
    "\n",
    "print (len(data_gpl), ' ', len(data_gpl_dup_s))\n",
    "\n",
    "dict_app = {}\n",
    "for row in data_gpl_dup_s:\n",
    "    if row[0] not in dict_app:\n",
    "        dict_app[row[0]] = 1\n",
    "    else:\n",
    "        dict_app[row[0]] += 1\n",
    "        \n",
    "ac_cont = 0\n",
    "for key in dict_app:\n",
    "    if dict_app[key] == 1:\n",
    "        ac_cont += 1\n",
    "\n",
    "print (ac_cont)\n",
    "   "
   ]
  },
  {
   "cell_type": "code",
   "execution_count": 27,
   "metadata": {
    "ExecuteTime": {
     "end_time": "2019-11-28T17:05:16.941291Z",
     "start_time": "2019-11-28T17:05:16.710788Z"
    }
   },
   "outputs": [
    {
     "name": "stdout",
     "output_type": "stream",
     "text": [
      "8125 8125\n",
      "1443 1443\n"
     ]
    }
   ],
   "source": [
    "# salvar dados originais gerando uma nova lista por segurança (não precisaria kkkk)\n",
    "# como somente copiar uma lista para outra não resulta em uma nova lista, iremos utilizar a\n",
    "# função built-in copy.deepcopy\n",
    "\n",
    "data_gpl_atual = copy.deepcopy(data_gpl)\n",
    "data_gpl_dup_ok = copy.deepcopy(data_gpl_dup_s)\n",
    "\n",
    "print (len(data_gpl_atual), len(data_gpl))\n",
    "print (len(data_gpl_dup_ok), len(data_gpl_dup_s))\n"
   ]
  },
  {
   "cell_type": "code",
   "execution_count": 28,
   "metadata": {
    "ExecuteTime": {
     "end_time": "2019-11-28T17:05:16.973857Z",
     "start_time": "2019-11-28T17:05:16.943481Z"
    }
   },
   "outputs": [
    {
     "name": "stdout",
     "output_type": "stream",
     "text": [
      "8125   8125\n",
      "1443   1443\n",
      "244\n",
      "8369   8125\n",
      "1443   1199\n"
     ]
    }
   ],
   "source": [
    "# os registros não duplicados voltam para data base\n",
    "\n",
    "print (len(data_gpl_atual), ' ', len(data_gpl))\n",
    "print (len(data_gpl_dup_ok), ' ', len(data_gpl_dup_s))\n",
    "\n",
    "ac_cont = 0\n",
    "\n",
    "for row in data_gpl_dup_s:\n",
    "    if dict_app[row[0]] == 1:\n",
    "        data_gpl_atual.append(row)\n",
    "        data_gpl_dup_ok.remove(row)\n",
    "        ac_cont += 1\n",
    "        dict_app[row[0]] -= 1\n",
    "        \n",
    "print (ac_cont)\n",
    "print (len(data_gpl_atual), ' ', len(data_gpl))\n",
    "print (len(data_gpl_dup_s), ' ', len(data_gpl_dup_ok))\n"
   ]
  },
  {
   "cell_type": "code",
   "execution_count": 29,
   "metadata": {
    "ExecuteTime": {
     "end_time": "2019-11-28T17:05:17.006996Z",
     "start_time": "2019-11-28T17:05:16.978842Z"
    }
   },
   "outputs": [
    {
     "name": "stdout",
     "output_type": "stream",
     "text": [
      "[['Mannequin Challenge', {0: 2, 1: 2, 2: 1, 3: 2, 4: 1, 5: 1, 6: 2, 7: 2, 8: 1, 9: 2, 10: 2, 11: 1, 12: 1, 13: 2, 14: 2, 15: 1, 16: 1}], ['VR Roller Coaster', {0: 2, 1: 2, 2: 1, 3: 2, 4: 1, 5: 1, 6: 2, 7: 2, 8: 1, 9: 2, 10: 2, 11: 1, 12: 1, 13: 2, 14: 2, 15: 1, 16: 1}]]\n"
     ]
    }
   ],
   "source": [
    "# identificar quais as colunas diferente entre os registro duplicados do ios\n",
    "\n",
    "row_base = data_ios_dup[0]\n",
    "qtd_col_ios = []\n",
    "dict_col_ios = {}\n",
    "for col in range(len(row_base)):\n",
    "    dict_col_ios[col] = 1    \n",
    "\n",
    "for row in data_ios_dup[1:]:\n",
    "    if row_base[2] == row[2]:\n",
    "        for col in range(len(row)):\n",
    "            if row_base[col]!= row[col]:\n",
    "                dict_col_ios[col] += 1\n",
    "    else:\n",
    "        list_aux = []\n",
    "        list_aux.append(row_base[2])\n",
    "        list_aux.append(dict_col_ios)\n",
    "        qtd_col_ios.append(list_aux)\n",
    "        row_base = row\n",
    "        for col in range(len(row)):\n",
    "            dict_col_ios[col] = 1\n",
    "            \n",
    "list_aux = []\n",
    "list_aux.append(row_base[2])\n",
    "list_aux.append(dict_col_ios)\n",
    "qtd_col_ios.append(list_aux) \n",
    "\n",
    "print (qtd_col_ios)\n"
   ]
  },
  {
   "cell_type": "markdown",
   "metadata": {},
   "source": [
    "Para realmente sabermos o comportamento dessas alteraçoes, poderiamos utilizar um grafico do tipo dot plot, onde a base seria a coluna que sofre alteração.\n",
    "\n",
    "\"In summary, a Dot Plot is a graph for displaying the distribution of numerical variables where each dot represents a value\".\n",
    "\n",
    "Até este ponto, não existe um critério para selecionar os registros do IOS. Aguardando informações do curso"
   ]
  },
  {
   "cell_type": "code",
   "execution_count": 30,
   "metadata": {
    "ExecuteTime": {
     "end_time": "2019-11-28T17:05:17.040189Z",
     "start_time": "2019-11-28T17:05:17.013091Z"
    }
   },
   "outputs": [
    {
     "name": "stdout",
     "output_type": "stream",
     "text": [
      "0    = 10751   \t \t 10885\n",
      "1   id = 1173990889   \t \t 1178454060\n",
      "2   track_name = Mannequin Challenge   \t \t Mannequin Challenge\n",
      "3   size_bytes = 109705216   \t \t 59572224\n",
      "4   currency = USD   \t \t USD\n",
      "5   price = 0   \t \t 0\n",
      "6   rating_count_tot = 668   \t \t 105\n",
      "7   rating_count_ver = 87   \t \t 58\n",
      "8   user_rating = 3   \t \t 4\n",
      "9   user_rating_ver = 3   \t \t 4.5\n",
      "10   ver = 1.4   \t \t 1.0.1\n",
      "11   cont_rating = 9+   \t \t 4+\n",
      "12   prime_genre = Games   \t \t Games\n",
      "13   sup_devices.num = 37   \t \t 38\n",
      "14   ipadSc_urls.num = 4   \t \t 5\n",
      "15   lang.num = 1   \t \t 1\n",
      "16   vpp_lic = 1   \t \t 1\n"
     ]
    }
   ],
   "source": [
    "# exibindo uma amostra das diferenças por coluna\n",
    "\n",
    "for n in range(len(data_ios_header)):\n",
    "    print(n, ' ', data_ios_header[n], '=', data_ios_dup[0][n], ' ',  '\\t', '\\t', data_ios_dup[1][n])"
   ]
  },
  {
   "cell_type": "code",
   "execution_count": 31,
   "metadata": {
    "ExecuteTime": {
     "end_time": "2019-11-28T17:05:17.124636Z",
     "start_time": "2019-11-28T17:05:17.045468Z"
    }
   },
   "outputs": [
    {
     "name": "stdout",
     "output_type": "stream",
     "text": [
      "AP Mobile - Breaking News 2 \n",
      "\n",
      "['365Scores - Live Scores', {0: 1, 1: 1, 2: 1, 3: 2, 4: 1, 5: 1, 6: 1, 7: 1, 8: 1, 9: 1, 10: 1, 11: 1, 12: 1}]\n",
      "['8 Ball Pool', {0: 1, 1: 2, 2: 1, 3: 7, 4: 1, 5: 1, 6: 1, 7: 1, 8: 1, 9: 1, 10: 1, 11: 1, 12: 1}]\n",
      "['95Live -SG#1 Live Streaming App', {0: 1, 1: 1, 2: 1, 3: 2, 4: 1, 5: 1, 6: 1, 7: 1, 8: 1, 9: 1, 10: 1, 11: 1, 12: 1}]\n",
      "['A&E - Watch Full Episodes of TV Shows', {0: 1, 1: 2, 2: 1, 3: 2, 4: 1, 5: 1, 6: 1, 7: 1, 8: 1, 9: 1, 10: 1, 11: 1, 12: 1}]\n",
      "['AC - Tips & News for Android™', {0: 1, 1: 1, 2: 1, 3: 2, 4: 1, 5: 1, 6: 1, 7: 1, 8: 1, 9: 1, 10: 1, 11: 1, 12: 1}]\n",
      "['AP Mobile - Breaking News', {0: 1, 1: 1, 2: 1, 3: 2, 4: 1, 5: 1, 6: 1, 7: 1, 8: 1, 9: 1, 10: 1, 11: 1, 12: 1}]\n",
      "['ASOS', {0: 1, 1: 1, 2: 1, 3: 2, 4: 1, 5: 1, 6: 1, 7: 1, 8: 1, 9: 1, 10: 1, 11: 1, 12: 1}]\n",
      "['AccuWeather: Daily Forecast & Live Weather Reports', {0: 1, 1: 1, 2: 1, 3: 2, 4: 1, 5: 1, 6: 1, 7: 1, 8: 1, 9: 1, 10: 2, 11: 1, 12: 1}]\n",
      "['Acorns - Invest Spare Change', {0: 1, 1: 1, 2: 1, 3: 2, 4: 1, 5: 1, 6: 1, 7: 1, 8: 1, 9: 1, 10: 1, 11: 1, 12: 1}]\n",
      "['Adobe Acrobat Reader', {0: 1, 1: 1, 2: 1, 3: 3, 4: 1, 5: 1, 6: 1, 7: 1, 8: 1, 9: 1, 10: 1, 11: 1, 12: 1}]\n",
      "['Instagram', {0: 1, 1: 1, 2: 1, 3: 3, 4: 1, 5: 1, 6: 1, 7: 1, 8: 1, 9: 1, 10: 1, 11: 1, 12: 1}]\n"
     ]
    }
   ],
   "source": [
    "#identificar colunas diferentes no google_play - por aplicativo - rotina correta\n",
    "# foi necessário utilizar o deepcopy pois as alterações no dicionario e na lista auxiliares\n",
    "# alteram a lista principal\n",
    "\n",
    "data_gpl_dup_ok = sorted(data_gpl_dup_ok, key = operator.itemgetter(0, 1, 2, 3, 4, 5, 6, 7, 8, 9, 10, 11, 12))\n",
    "\n",
    "cont_insta = 0\n",
    "dict_col = {}\n",
    "list_qtd = []\n",
    "qtd_col = []\n",
    "\n",
    "for col in range(len(data_gpl_dup_ok[0])):\n",
    "    dict_col[col] = 1\n",
    "      \n",
    "for row in data_gpl_dup_ok:\n",
    "    if row[0] == 'AP Mobile - Breaking News':\n",
    "        cont_insta += 1\n",
    "        \n",
    "        \n",
    "str_base = data_gpl_dup_ok[0][0]\n",
    "row_base = data_gpl_dup_ok[0]\n",
    "        \n",
    "print ('AP Mobile - Breaking News', cont_insta, '\\n')\n",
    "\n",
    "for row in data_gpl_dup_ok[1:]: \n",
    "    if str_base == row[0]:\n",
    "        for col in range(len(row)):\n",
    "            if row_base[col] != row[col]:\n",
    "                dict_col[col] += 1\n",
    "    else: \n",
    "        list_aux = []\n",
    "        list_aux.append(str_base)\n",
    "        list_aux.append(dict_col)\n",
    "        list_qtd.append(copy.deepcopy(list_aux))\n",
    "        str_base = row[0]\n",
    "        row_base = row\n",
    "        \n",
    "        for col in range(len(row)):\n",
    "            dict_col[col] = 1\n",
    "\n",
    "# processando o último registro do loop acima\n",
    "list_aux = []\n",
    "list_aux.append(str_base)\n",
    "list_aux.append(dict_col)\n",
    "list_qtd.append(copy.deepcopy(list_aux))\n",
    "\n",
    "for col in range(0, 10):\n",
    "    print (list_qtd[col])\n",
    "    \n",
    "for row in list_qtd:\n",
    "    if row[0] == 'Instagram':\n",
    "        print (row)\n",
    "\n",
    "                "
   ]
  },
  {
   "cell_type": "code",
   "execution_count": 32,
   "metadata": {
    "ExecuteTime": {
     "end_time": "2019-11-28T17:05:17.155376Z",
     "start_time": "2019-11-28T17:05:17.127790Z"
    }
   },
   "outputs": [
    {
     "name": "stdout",
     "output_type": "stream",
     "text": [
      "qtd app= 512\n",
      "{0: 0, 1: 83, 2: 17, 3: 508, 4: 16, 5: 14, 6: 1, 7: 1, 8: 1, 9: 8, 10: 41, 11: 23, 12: 14} \n",
      "\n",
      "1   Category 83\n",
      "2   Rating 17\n",
      "3   Reviews 508\n",
      "4   Size 16\n",
      "5   Installs 14\n",
      "9   Genres 8\n",
      "10   Last Updated 41\n",
      "11   Current Ver 23\n",
      "12   Android Ver 14\n"
     ]
    }
   ],
   "source": [
    "# como pode ser visto acima Breaknew tem dois registros portanto devemos ter pelo menos \n",
    "# uma coluna com 2 alterações (encontrado 3: 2)\n",
    "\n",
    "# o mesmo vale para o Instagram que tem tres registros por3: 3tanto devemos ter pelo menos \n",
    "# uma coluna com 3 alterações (encontrado 3: 3)\n",
    "\n",
    "# agora vamos identifiar quais as colunas que mais sofrem alterações \n",
    "\n",
    "dict_col = {}\n",
    "cont_app = 0\n",
    "\n",
    "col = 0\n",
    "dict_col[col] = 0\n",
    "\n",
    "for col in range(1, len(data_gpl_dup_ok[0])):\n",
    "    dict_col[col] = 1\n",
    "    \n",
    "for row in list_qtd:\n",
    "        cont_app += 1\n",
    "        dict_aux = row[1]\n",
    "        for col in range(len(dict_aux)):\n",
    "            if dict_aux[col] > 1:\n",
    "                dict_col[col] +=1\n",
    "\n",
    "print ('qtd app=', cont_app)\n",
    "print (dict_col, '\\n')\n",
    "                \n",
    "for col in range(len(dict_col)):\n",
    "    if dict_col[col] > 1:\n",
    "        print (col, ' ', data_gpl_all[0][col], dict_col[col])\n",
    "\n",
    "                "
   ]
  },
  {
   "cell_type": "markdown",
   "metadata": {
    "ExecuteTime": {
     "end_time": "2019-11-27T16:01:48.482970Z",
     "start_time": "2019-11-27T16:01:48.476973Z"
    }
   },
   "source": [
    "Como pode ser visualizado acima, dos 512 app's em duplicidade, a coluna de Reviews é a que sofre maior número de alterações totalizando 508 \n",
    "\n",
    "We can use this information to build a criterion for removing the duplicates. The higher the number of reviews, the more recent the data should be. Rather than removing duplicates randomly, we'll only keep the row with the highest number of reviews and remove the other entries for any given app."
   ]
  },
  {
   "cell_type": "code",
   "execution_count": 33,
   "metadata": {
    "ExecuteTime": {
     "end_time": "2019-11-28T17:05:17.171158Z",
     "start_time": "2019-11-28T17:05:17.159377Z"
    }
   },
   "outputs": [
    {
     "name": "stdout",
     "output_type": "stream",
     "text": [
      "8369   8125\n",
      "1199   1443\n"
     ]
    }
   ],
   "source": [
    "# identifying the atual number of reviews\n",
    "print (len(data_gpl_atual), ' ', len(data_gpl))\n",
    "print (len(data_gpl_dup_ok), ' ', len(data_gpl_dup_s))\n",
    "\n",
    "# data_gpl_atual = dados a serem processados + registros que estavam igualmente duplicados \n",
    "#               por este motivo seu tamanho é maior que data_gpl (original)\n",
    "\n",
    "# data_gpl_dup_ok = dados duplicados dos quais foram retiradas os registros totalmente\n",
    "#               igual, por este motivo seu tamanho é menor que o dup_s (classificado)\n",
    "#   \n"
   ]
  },
  {
   "cell_type": "code",
   "execution_count": 34,
   "metadata": {
    "ExecuteTime": {
     "end_time": "2019-11-28T17:05:17.191622Z",
     "start_time": "2019-11-28T17:05:17.175116Z"
    }
   },
   "outputs": [
    {
     "name": "stdout",
     "output_type": "stream",
     "text": [
      "\n",
      " 512  com reviões duplicadas: 5\n",
      "\n",
      "\n",
      "365Scores - Live Scores \t 666521.0\n",
      "8 Ball Pool \t 14201891.0\n",
      "95Live -SG#1 Live Streaming App \t 4954.0\n",
      "A&E - Watch Full Episodes of TV Shows \t 29708.0\n",
      "AC - Tips & News for Android™ \t 23292.0\n"
     ]
    }
   ],
   "source": [
    "# do arquivo dup_ok vamos selecionar os registros com o valor de revisões maior\n",
    "\n",
    "# vamos verificar também se um mesmo app / reviws possui mais de um registro\n",
    "\n",
    "dict_reviews = {}\n",
    "ac_cont = 0\n",
    "\n",
    "for row in data_gpl_dup_ok:\n",
    "    str_app = row[0]\n",
    "    if str_app not in dict_reviews:\n",
    "        str_app = row[0]\n",
    "        dict_reviews[str_app] = float(row[3])\n",
    "    else:\n",
    "        if float(row[3]) > float(dict_reviews[str_app]):\n",
    "            dict_reviews[str_app] = float(row[3])\n",
    "        elif float(row[3]) == float(dict_reviews[str_app]):\n",
    "            ac_cont += 1\n",
    "\n",
    "print ('\\n', len(dict_reviews), ' com reviões duplicadas:', ac_cont)\n",
    "print ('\\n')\n",
    "ac_cont = 0\n",
    "for key in dict_reviews:\n",
    "    print (key, '\\t', dict_reviews[key])\n",
    "    ac_cont += 1\n",
    "    if ac_cont == 5:\n",
    "        break   \n"
   ]
  },
  {
   "cell_type": "code",
   "execution_count": 35,
   "metadata": {
    "ExecuteTime": {
     "end_time": "2019-11-28T17:05:17.223323Z",
     "start_time": "2019-11-28T17:05:17.197239Z"
    }
   },
   "outputs": [
    {
     "name": "stdout",
     "output_type": "stream",
     "text": [
      "['365Scores - Live Scores', 'SPORTS', '4.6', '666521', '25M', '10,000,000+', 'Free', '0', 'Everyone', 'Sports', 'July 29, 2018', '5.5.9', '4.1 and up']\n",
      "['8 Ball Pool', 'GAME', '4.5', '14201891', '52M', '100,000,000+', 'Free', '0', 'Everyone', 'Sports', 'July 31, 2018', '4.0.0', '4.0.3 and up']\n",
      "\n",
      " 512\n"
     ]
    }
   ],
   "source": [
    "#  separando os registros a serem removidos / adicionados em uma nova lista\n",
    "#  somente por segurança, porque poderiamos fazer diretamente nas listas\n",
    "\n",
    "# como existem 5 app's com o mesmo numero da revisão, a seleção será aleatória\n",
    "\n",
    "list_review = []\n",
    "review_proc = {}\n",
    "\n",
    "for row in data_gpl_dup_ok:\n",
    "    str_app = row[0]\n",
    "    if float(row[3]) == float(dict_reviews[str_app]):\n",
    "        if str_app in review_proc:\n",
    "            review_proc[str_app] += 1\n",
    "        else:\n",
    "            review_proc[str_app] = 0\n",
    "            list_review.append(row)\n",
    "        \n",
    "        \n",
    "print (list_review[0])\n",
    "print (list_review[1])\n",
    "\n",
    "print ('\\n', len(list_review))"
   ]
  },
  {
   "cell_type": "code",
   "execution_count": 36,
   "metadata": {
    "ExecuteTime": {
     "end_time": "2019-11-28T17:05:17.239445Z",
     "start_time": "2019-11-28T17:05:17.228129Z"
    }
   },
   "outputs": [
    {
     "name": "stdout",
     "output_type": "stream",
     "text": [
      "8369\n",
      "8881\n"
     ]
    }
   ],
   "source": [
    "print (len(data_gpl_atual))\n",
    "\n",
    "for row in list_review:\n",
    "    data_gpl_atual.append(row)\n",
    "    \n",
    "print (len(data_gpl_atual))"
   ]
  },
  {
   "cell_type": "code",
   "execution_count": 37,
   "metadata": {
    "ExecuteTime": {
     "end_time": "2019-11-28T17:05:17.255906Z",
     "start_time": "2019-11-28T17:05:17.244633Z"
    }
   },
   "outputs": [
    {
     "name": "stdout",
     "output_type": "stream",
     "text": [
      "['10751', '1173990889', 'Mannequin Challenge', '109705216', 'USD', '0', '668', '87', '3', '3', '1.4', '9+', 'Games', '37', '4', '1', '1']\n",
      "['4000', '952877179', 'VR Roller Coaster', '169523200', 'USD', '0', '107', '102', '3.5', '3.5', '2.0.0', '4+', 'Games', '37', '5', '1', '1']\n",
      "\n",
      " 2\n"
     ]
    }
   ],
   "source": [
    "# do arquivo de registros duplicados do ios, vamos selecionar os registros aleatoriamente\n",
    "\n",
    "list_review = []\n",
    "review_proc = {}\n",
    "\n",
    "for row in data_ios_dup:\n",
    "    str_app = row[2]\n",
    "    if str_app in review_proc:\n",
    "        review_proc[str_app] += 1\n",
    "    else:\n",
    "        review_proc[str_app] = 0\n",
    "        list_review.append(row)\n",
    "        \n",
    "        \n",
    "print (list_review[0])\n",
    "print (list_review[1])\n",
    "\n",
    "print ('\\n', len(list_review))\n",
    "        \n",
    "\n",
    "            "
   ]
  },
  {
   "cell_type": "code",
   "execution_count": 38,
   "metadata": {
    "ExecuteTime": {
     "end_time": "2019-11-28T17:05:17.271905Z",
     "start_time": "2019-11-28T17:05:17.260081Z"
    }
   },
   "outputs": [
    {
     "name": "stdout",
     "output_type": "stream",
     "text": [
      "3188\n",
      "3190\n"
     ]
    }
   ],
   "source": [
    "# vamos adicionar esses dois registros na base do ios\n",
    "\n",
    "print (len(data_ios))\n",
    "\n",
    "for row in list_review:\n",
    "    data_ios.append(row)\n",
    "    \n",
    "print (len(data_ios))"
   ]
  },
  {
   "cell_type": "code",
   "execution_count": 39,
   "metadata": {
    "ExecuteTime": {
     "end_time": "2019-11-28T17:05:17.325022Z",
     "start_time": "2019-11-28T17:05:17.277661Z"
    }
   },
   "outputs": [],
   "source": [
    "# agora que os dados estão todos OK, vamos gravar esse resultado.\n",
    "# assim podemos fazer a análise em um novo notebook\n",
    "error_handling = ''\n",
    "\n",
    "with codecs.open(r'C:\\Users\\Sandra\\Documents\\Dataquest\\AppleStore_Clean.csv', 'wb',\n",
    "                     encoding='utf-8',\n",
    "                     errors=error_handling) as writeFile:\n",
    "        writer = csv.writer(writeFile)\n",
    "        writer.writerows(data_ios)\n",
    "                \n",
    "writeFile.close() "
   ]
  },
  {
   "cell_type": "code",
   "execution_count": 40,
   "metadata": {
    "ExecuteTime": {
     "end_time": "2019-11-28T17:05:17.424706Z",
     "start_time": "2019-11-28T17:05:17.327016Z"
    }
   },
   "outputs": [],
   "source": [
    "with codecs.open(r'C:\\Users\\Sandra\\Documents\\Dataquest\\googleplaystore_Clean.csv', 'wb',\n",
    "                     encoding='utf-8',\n",
    "                     errors=error_handling) as writeFile:\n",
    "        writer = csv.writer(writeFile)\n",
    "        writer.writerows(data_gpl_atual)\n",
    "                \n",
    "writeFile.close() "
   ]
  }
 ],
 "metadata": {
  "kernelspec": {
   "display_name": "Python 3",
   "language": "python",
   "name": "python3"
  },
  "language_info": {
   "codemirror_mode": {
    "name": "ipython",
    "version": 3
   },
   "file_extension": ".py",
   "mimetype": "text/x-python",
   "name": "python",
   "nbconvert_exporter": "python",
   "pygments_lexer": "ipython3",
   "version": "3.7.0"
  }
 },
 "nbformat": 4,
 "nbformat_minor": 2
}
