{
 "cells": [
  {
   "cell_type": "markdown",
   "metadata": {},
   "source": [
    "# Project 1 - DataQuest - Introduction to Python\n",
    "\n",
    "## Analysing Data\n",
    "\n",
    "As we mentioned in the introduction (showed in notebook ClenData), our aim is to determine the kinds of apps that are likely to attract more users because our revenue is highly influenced by the number of people using our apps.\n",
    "\n",
    "To minimize risks and overhead, our validation strategy for an app idea is comprised of three steps:\n",
    "\n",
    "    Build a minimal Android version of the app, and add it to Google Play.\n",
    "    If the app has a good response from users, we develop it further.\n",
    "    If the app is profitable after six months, we build an iOS version of the app and add it to the App Store.\n",
    "\n",
    "Because our end goal is to add the app on both Google Play and the App Store, we need to find app profiles that are successful on both markets. For instance, a profile that works well for both markets might be a productivity app that makes use of gamification. For this analysis, no make sense to built a message exchange app.\n",
    "\n",
    "Let's begin the analysis by getting a sense of what are the most common genres for each market. For this, we'll need to build frequency tables for a few columns in our data sets.\n",
    "\n",
    "\n"
   ]
  },
  {
   "cell_type": "code",
   "execution_count": 1,
   "metadata": {
    "ExecuteTime": {
     "end_time": "2019-12-03T22:42:55.357406Z",
     "start_time": "2019-12-03T22:42:55.332288Z"
    }
   },
   "outputs": [],
   "source": [
    "import csv\n",
    "from csv import reader\n",
    "from csv import writer"
   ]
  },
  {
   "cell_type": "code",
   "execution_count": 2,
   "metadata": {
    "ExecuteTime": {
     "end_time": "2019-12-03T22:42:55.372708Z",
     "start_time": "2019-12-03T22:42:55.359403Z"
    }
   },
   "outputs": [],
   "source": [
    "# AppStore file has Asia char \n",
    "import codecs"
   ]
  },
  {
   "cell_type": "code",
   "execution_count": 3,
   "metadata": {
    "ExecuteTime": {
     "end_time": "2019-12-03T22:42:55.388569Z",
     "start_time": "2019-12-03T22:42:55.376430Z"
    }
   },
   "outputs": [],
   "source": [
    "# TO indentifier Asia char\n",
    "import re"
   ]
  },
  {
   "cell_type": "code",
   "execution_count": 4,
   "metadata": {
    "ExecuteTime": {
     "end_time": "2019-12-03T22:42:55.404628Z",
     "start_time": "2019-12-03T22:42:55.395677Z"
    }
   },
   "outputs": [],
   "source": [
    "# To use sort funcion\n",
    "import operator"
   ]
  },
  {
   "cell_type": "code",
   "execution_count": 5,
   "metadata": {
    "ExecuteTime": {
     "end_time": "2019-12-03T22:42:55.420309Z",
     "start_time": "2019-12-03T22:42:55.409763Z"
    }
   },
   "outputs": [],
   "source": [
    "# to create a free list\n",
    "import copy"
   ]
  },
  {
   "cell_type": "code",
   "execution_count": 6,
   "metadata": {
    "ExecuteTime": {
     "end_time": "2019-12-03T22:42:55.453426Z",
     "start_time": "2019-12-03T22:42:55.424381Z"
    }
   },
   "outputs": [],
   "source": [
    "# to print as a table\n",
    "from prettytable import PrettyTable"
   ]
  },
  {
   "cell_type": "code",
   "execution_count": 7,
   "metadata": {
    "ExecuteTime": {
     "end_time": "2019-12-03T22:42:55.469285Z",
     "start_time": "2019-12-03T22:42:55.455422Z"
    }
   },
   "outputs": [],
   "source": [
    "opened_ios = codecs.open(r'C:\\Users\\Sandra\\Documents\\Dataquest\\AppleStore_Clean.csv','r','utf-8')"
   ]
  },
  {
   "cell_type": "code",
   "execution_count": 8,
   "metadata": {
    "ExecuteTime": {
     "end_time": "2019-12-03T22:42:55.507672Z",
     "start_time": "2019-12-03T22:42:55.478538Z"
    }
   },
   "outputs": [],
   "source": [
    "opened_gpl = codecs.open(r'C:\\Users\\Sandra\\Documents\\Dataquest\\googleplaystore_Clean.csv','r','utf-8')"
   ]
  },
  {
   "cell_type": "code",
   "execution_count": 9,
   "metadata": {
    "ExecuteTime": {
     "end_time": "2019-12-03T22:42:55.523728Z",
     "start_time": "2019-12-03T22:42:55.516329Z"
    }
   },
   "outputs": [],
   "source": [
    "read_ios = reader(opened_ios)\n",
    "read_gpl = reader(opened_gpl)\n"
   ]
  },
  {
   "cell_type": "code",
   "execution_count": 10,
   "metadata": {
    "ExecuteTime": {
     "end_time": "2019-12-03T22:42:55.823635Z",
     "start_time": "2019-12-03T22:42:55.527721Z"
    }
   },
   "outputs": [],
   "source": [
    "data_ios = list(read_ios)\n",
    "data_gpl = list(read_gpl)"
   ]
  },
  {
   "cell_type": "code",
   "execution_count": 11,
   "metadata": {
    "ExecuteTime": {
     "end_time": "2019-12-03T22:42:55.839205Z",
     "start_time": "2019-12-03T22:42:55.825702Z"
    }
   },
   "outputs": [],
   "source": [
    "opened_gpl.close()\n",
    "opened_ios.close()"
   ]
  },
  {
   "cell_type": "code",
   "execution_count": 12,
   "metadata": {
    "ExecuteTime": {
     "end_time": "2019-12-03T22:42:55.856780Z",
     "start_time": "2019-12-03T22:42:55.843198Z"
    }
   },
   "outputs": [],
   "source": [
    "# print as a table\n",
    "def print_cabec(row_ios, row_gpl):\n",
    "    t = PrettyTable(['col', 'IOS', 'GPL'])\n",
    "\n",
    "    len_ios = len(row_ios)\n",
    "    len_gpl = len(row_gpl)\n",
    "    \n",
    "    app_ios = False\n",
    "    app_gpl = False\n",
    "\n",
    "    if len_ios > len_gpl:\n",
    "        app_ios = True\n",
    "    else:\n",
    "        app_gpl = True\n",
    "    \n",
    "    if app_ios:  \n",
    "        for col in range(len(row_gpl)):\n",
    "            t.add_row([col, row_ios[col], row_gpl[col]])\n",
    "        for col in range(len(row_gpl), len(row_ios)):\n",
    "            t.add_row([col, row_ios[col], ''])\n",
    "        \n",
    "    if app_gpl:\n",
    "        for col in range(len(row_ios)):\n",
    "            t.add_row([col, row_ios[col], row_gpl[col]])\n",
    "        for col in range(len(row_ios), len(row_gpl)):\n",
    "            t.add_row([col, '', row_gpl[col], ''])\n",
    "                       \n",
    "    print (t)\n",
    "\n",
    "#t.add_row(['Alice', 24])\n",
    "#t.add_row(['', 19])\n",
    "#t.add_row(str)\n",
    "#print(t)"
   ]
  },
  {
   "cell_type": "code",
   "execution_count": 13,
   "metadata": {
    "ExecuteTime": {
     "end_time": "2019-12-03T22:42:55.887944Z",
     "start_time": "2019-12-03T22:42:55.861121Z"
    }
   },
   "outputs": [
    {
     "name": "stdout",
     "output_type": "stream",
     "text": [
      "+-----+------------------+----------------+\n",
      "| col |       IOS        |      GPL       |\n",
      "+-----+------------------+----------------+\n",
      "|  0  |                  |      App       |\n",
      "|  1  |        id        |    Category    |\n",
      "|  2  |    track_name    |     Rating     |\n",
      "|  3  |    size_bytes    |    Reviews     |\n",
      "|  4  |     currency     |      Size      |\n",
      "|  5  |      price       |    Installs    |\n",
      "|  6  | rating_count_tot |      Type      |\n",
      "|  7  | rating_count_ver |     Price      |\n",
      "|  8  |   user_rating    | Content Rating |\n",
      "|  9  | user_rating_ver  |     Genres     |\n",
      "|  10 |       ver        |  Last Updated  |\n",
      "|  11 |   cont_rating    |  Current Ver   |\n",
      "|  12 |   prime_genre    |  Android Ver   |\n",
      "|  13 | sup_devices.num  |                |\n",
      "|  14 | ipadSc_urls.num  |                |\n",
      "|  15 |     lang.num     |                |\n",
      "|  16 |     vpp_lic      |                |\n",
      "+-----+------------------+----------------+\n"
     ]
    }
   ],
   "source": [
    "# print dos cabeçalhos dos arquivos\n",
    "print_cabec(data_ios[0], data_gpl[0])        "
   ]
  },
  {
   "cell_type": "code",
   "execution_count": 14,
   "metadata": {
    "ExecuteTime": {
     "end_time": "2019-12-03T22:42:55.918706Z",
     "start_time": "2019-12-03T22:42:55.894050Z"
    }
   },
   "outputs": [],
   "source": [
    "def print_table(colun_name, colun_qname, titulo, dict_print, percent=False):   \n",
    "     \n",
    "    cont_aux = 0\n",
    "    \n",
    "    ac_total = 0\n",
    "    \n",
    "    for key in dict_print:\n",
    "        ac_total += float(dict_print[key])\n",
    "    \n",
    "    if percent is False:\n",
    "        t = PrettyTable([colun_name, colun_qname])\n",
    "        for key in dict_print:\n",
    "            t.add_row([key[0:60], int(dict_print[key])])\n",
    "            cont_aux += 1\n",
    "            if cont_aux > 10:\n",
    "                break\n",
    "        \n",
    "    if percent is True:\n",
    "        t = PrettyTable([colun_name, colun_qname])\n",
    "        for key in dict_print:\n",
    "            t.add_row([key[0:60], round(dict_print[key], 2)])\n",
    "            cont_aux += 1\n",
    "            if cont_aux > 10:\n",
    "                break\n",
    "    \n",
    "    if len(dict_print) > 10:\n",
    "            t.add_row (['...', '...'])\n",
    "    \n",
    "    t.add_row(['Total', round(ac_total, 2)])\n",
    "   \n",
    "    str_titulo = titulo + ' - Total ' + colun_name + ' ' + str(len(dict_print))\n",
    "    print (str_titulo, '\\n')\n",
    "    print (t)\n",
    "    print ('\\n')\n",
    "        \n",
    "    \n",
    "    "
   ]
  },
  {
   "cell_type": "code",
   "execution_count": 15,
   "metadata": {
    "ExecuteTime": {
     "end_time": "2019-12-03T22:42:55.958024Z",
     "start_time": "2019-12-03T22:42:55.923333Z"
    }
   },
   "outputs": [],
   "source": [
    "# contar a qtde de app por genero\n",
    "# genero 1.9 não diz muito. Vou eliminar esta linha do arquivo\n",
    "# para IOS - coluna 12\n",
    "# para GPL - coluna 9\n",
    "\n",
    "def genre(data_all, col):\n",
    "\n",
    "    dict_all = {}\n",
    "    ac_total = 0\n",
    "\n",
    "    for row in data_all:\n",
    "        str_genre = row[col]\n",
    "        if str_genre != '1.9':\n",
    "            ac_total += 1\n",
    "            if str_genre in dict_all:\n",
    "                dict_all[str_genre] += 1\n",
    "            else:\n",
    "                dict_all[str_genre] = float(1)\n",
    "\n",
    "        \n",
    "    return dict_all, ac_total\n",
    "        \n"
   ]
  },
  {
   "cell_type": "code",
   "execution_count": 16,
   "metadata": {
    "ExecuteTime": {
     "end_time": "2019-12-03T22:42:55.989922Z",
     "start_time": "2019-12-03T22:42:55.960021Z"
    }
   },
   "outputs": [],
   "source": [
    "cabec_ios = 'Dados IOS - Genre'\n",
    "dict_ios, total_ios = genre(data_ios[1:], 12)\n",
    "\n",
    "cabec_gpl = \"Dados GooglePLay - Category\"\n",
    "dict_gpl_cat, total_gpl_cat = genre(data_gpl[1:], 1)\n",
    "\n",
    "cabec_gpl = \"Dados GooglePLay - Genre\"\n",
    "dict_gpl_gen, total_gpl_gen = genre(data_gpl[1:], 9)\n"
   ]
  },
  {
   "cell_type": "code",
   "execution_count": 17,
   "metadata": {
    "ExecuteTime": {
     "end_time": "2019-12-03T22:42:56.024098Z",
     "start_time": "2019-12-03T22:42:55.993912Z"
    }
   },
   "outputs": [
    {
     "name": "stdout",
     "output_type": "stream",
     "text": [
      "Dados IOS - Total Genre 23 \n",
      "\n",
      "+------------------+--------+\n",
      "|      Genre       |  Qty   |\n",
      "+------------------+--------+\n",
      "|       Book       |   12   |\n",
      "|     Business     |   17   |\n",
      "|     Catalogs     |   4    |\n",
      "|    Education     |  118   |\n",
      "|  Entertainment   |  252   |\n",
      "|     Finance      |   35   |\n",
      "|   Food & Drink   |   26   |\n",
      "|      Games       |  1861  |\n",
      "| Health & Fitness |   65   |\n",
      "|    Lifestyle     |   50   |\n",
      "|     Medical      |   6    |\n",
      "|       ...        |  ...   |\n",
      "|      Total       | 3189.0 |\n",
      "+------------------+--------+\n",
      "\n",
      "\n",
      "Dados GPL - Total Genre 115 \n",
      "\n",
      "+---------------------------------+--------+\n",
      "|              Genre              |  Qty   |\n",
      "+---------------------------------+--------+\n",
      "|              Action             |  275   |\n",
      "|    Action;Action & Adventure    |   9    |\n",
      "|            Adventure            |   60   |\n",
      "|   Adventure;Action & Adventure  |   3    |\n",
      "|       Adventure;Education       |   1    |\n",
      "|              Arcade             |  164   |\n",
      "|    Arcade;Action & Adventure    |   11   |\n",
      "|       Arcade;Pretend Play       |   1    |\n",
      "|           Art & Design          |   54   |\n",
      "| Art & Design;Action & Adventure |   1    |\n",
      "|     Art & Design;Creativity     |   6    |\n",
      "|               ...               |  ...   |\n",
      "|              Total              | 8880.0 |\n",
      "+---------------------------------+--------+\n",
      "\n",
      "\n",
      "Dados GPL - Total Category 33 \n",
      "\n",
      "+---------------------+--------+\n",
      "|       Category      |  Qty   |\n",
      "+---------------------+--------+\n",
      "|    ART_AND_DESIGN   |   58   |\n",
      "|  AUTO_AND_VEHICLES  |   82   |\n",
      "|        BEAUTY       |   53   |\n",
      "| BOOKS_AND_REFERENCE |  193   |\n",
      "|       BUSINESS      |  407   |\n",
      "|        COMICS       |   54   |\n",
      "|    COMMUNICATION    |  287   |\n",
      "|        DATING       |  165   |\n",
      "|      EDUCATION      |  104   |\n",
      "|    ENTERTAINMENT    |   85   |\n",
      "|        EVENTS       |   63   |\n",
      "|         ...         |  ...   |\n",
      "|        Total        | 8879.0 |\n",
      "+---------------------+--------+\n",
      "\n",
      "\n"
     ]
    }
   ],
   "source": [
    "#dict_gpl = sorted(dict_gpl) - este comando transforma o dicionario em uma lista\n",
    "# sorted(key_value.keys) returns an iterator over the # Dictionary’s value sorted in keys.\n",
    "# devido a isto foi criado um novo dicionario\n",
    "\n",
    "def sort_dict(dict_all, skey=True):\n",
    "    dict_s = {}\n",
    "    \n",
    "    if skey is True:\n",
    "        for i in sorted (dict_all.keys()) : \n",
    "             dict_s[i] = dict_all[i] \n",
    "    \n",
    "    if skey is False:\n",
    "        for i in sorted(dict_all.items(), key= lambda kv: (-kv[1], kv[0])): \n",
    "            dict_s[i[0]] = i[1]\n",
    "                \n",
    "    return dict_s\n",
    "    \n",
    "\n",
    "dict_ios_s = sort_dict(dict_ios, skey=True)\n",
    "dict_gpl_cat_s = sort_dict(dict_gpl_cat, skey=True)\n",
    "dict_gpl_gen_s = sort_dict(dict_gpl_gen, skey=True)  \n",
    " \n",
    "print_table('Genre', 'Qty', 'Dados IOS', dict_ios_s, percent=False)\n",
    "print_table('Genre', 'Qty', 'Dados GPL', dict_gpl_gen_s, percent=False)\n",
    "print_table('Category', 'Qty', 'Dados GPL', dict_gpl_cat_s, percent=False)\n",
    "\n",
    "    "
   ]
  },
  {
   "cell_type": "code",
   "execution_count": 18,
   "metadata": {
    "ExecuteTime": {
     "end_time": "2019-12-03T22:42:56.071144Z",
     "start_time": "2019-12-03T22:42:56.039254Z"
    }
   },
   "outputs": [
    {
     "name": "stdout",
     "output_type": "stream",
     "text": [
      "Dados IOS - Total Genre 23 \n",
      "\n",
      "+-------------------+--------+\n",
      "|       Genre       |  Qty   |\n",
      "+-------------------+--------+\n",
      "|       Games       |  1861  |\n",
      "|   Entertainment   |  252   |\n",
      "|   Photo & Video   |  160   |\n",
      "|     Education     |  118   |\n",
      "| Social Networking |  104   |\n",
      "|      Shopping     |   81   |\n",
      "|     Utilities     |   77   |\n",
      "|       Sports      |   69   |\n",
      "|  Health & Fitness |   65   |\n",
      "|       Music       |   65   |\n",
      "|    Productivity   |   55   |\n",
      "|        ...        |  ...   |\n",
      "|       Total       | 3189.0 |\n",
      "+-------------------+--------+\n",
      "\n",
      "\n",
      "Dados GPL - Total Genre 115 \n",
      "\n",
      "+-----------------+--------+\n",
      "|      Genre      |  Qty   |\n",
      "+-----------------+--------+\n",
      "|      Tools      |  749   |\n",
      "|  Entertainment  |  542   |\n",
      "|    Education    |  476   |\n",
      "|     Business    |  407   |\n",
      "|    Lifestyle    |  346   |\n",
      "|   Productivity  |  346   |\n",
      "|     Finance     |  328   |\n",
      "|     Medical     |  313   |\n",
      "|      Sports     |  307   |\n",
      "| Personalization |  295   |\n",
      "|  Communication  |  287   |\n",
      "|       ...       |  ...   |\n",
      "|      Total      | 8880.0 |\n",
      "+-----------------+--------+\n",
      "\n",
      "\n",
      "Dados GPL - Total Category 33 \n",
      "\n",
      "+-----------------+--------+\n",
      "|     Category    |  Qty   |\n",
      "+-----------------+--------+\n",
      "|      FAMILY     |  1682  |\n",
      "|       GAME      |  861   |\n",
      "|      TOOLS      |  750   |\n",
      "|     BUSINESS    |  407   |\n",
      "|    LIFESTYLE    |  347   |\n",
      "|   PRODUCTIVITY  |  346   |\n",
      "|     FINANCE     |  328   |\n",
      "|     MEDICAL     |  313   |\n",
      "|      SPORTS     |  301   |\n",
      "| PERSONALIZATION |  295   |\n",
      "|  COMMUNICATION  |  287   |\n",
      "|       ...       |  ...   |\n",
      "|      Total      | 8879.0 |\n",
      "+-----------------+--------+\n",
      "\n",
      "\n"
     ]
    }
   ],
   "source": [
    "# a qtde de app no GooglePlay difere entre category and gender porque foi retirado \n",
    "# a categoria = 1.9 (não significa nada) - mas foi mantida no genero\n",
    "\n",
    "# classificar por genero ou genero/categoria não nos diz muito.\n",
    "# Vamos verificar por qtde de app\n",
    "\n",
    "dict_ios_s = sort_dict(dict_ios, skey=False)\n",
    "dict_gpl_cat_s = sort_dict(dict_gpl_cat, skey=False)\n",
    "dict_gpl_gen_s = sort_dict(dict_gpl_gen, skey=False)  \n",
    " \n",
    "print_table('Genre', 'Qty', 'Dados IOS', dict_ios_s, percent=False)\n",
    "print_table('Genre', 'Qty','Dados GPL', dict_gpl_gen_s, percent=False)\n",
    "print_table('Category', 'Qty', 'Dados GPL', dict_gpl_cat_s, percent=False)\n"
   ]
  },
  {
   "cell_type": "code",
   "execution_count": 19,
   "metadata": {
    "ExecuteTime": {
     "end_time": "2019-12-03T22:42:56.107605Z",
     "start_time": "2019-12-03T22:42:56.079749Z"
    }
   },
   "outputs": [
    {
     "name": "stdout",
     "output_type": "stream",
     "text": [
      "Dados IOS - Frequency Table - Total Genre 23 \n",
      "\n",
      "+-------------------+-------+\n",
      "|       Genre       |  Perc |\n",
      "+-------------------+-------+\n",
      "|       Games       | 58.36 |\n",
      "|   Entertainment   |  7.9  |\n",
      "|   Photo & Video   |  5.02 |\n",
      "|     Education     |  3.7  |\n",
      "| Social Networking |  3.26 |\n",
      "|      Shopping     |  2.54 |\n",
      "|     Utilities     |  2.41 |\n",
      "|       Sports      |  2.16 |\n",
      "|  Health & Fitness |  2.04 |\n",
      "|       Music       |  2.04 |\n",
      "|    Productivity   |  1.72 |\n",
      "|        ...        |  ...  |\n",
      "|       Total       | 100.0 |\n",
      "+-------------------+-------+\n",
      "\n",
      "\n"
     ]
    }
   ],
   "source": [
    "# a qtde de app no GooglePlay difere entre category and gender porque foi retirado \n",
    "# a categoria = 1.9 (não significa nada) - mas foi mantida no genero\n",
    "\n",
    "# classificar por genero ou genero/categoria não nos diz muito também. \n",
    "# vamos verificar pelo percentual de cada tipo\n",
    "\n",
    "def perc_app(dict_data, ac_total):\n",
    "    \n",
    "    dict_all = {}\n",
    "    dict_s = {}\n",
    "    \n",
    "    for key in dict_data:\n",
    "        dict_all[key] = (dict_data[key] / ac_total) * 100  \n",
    "    \n",
    "    dict_s = sort_dict(dict_all, skey=False)  \n",
    "            \n",
    "    return dict_s\n",
    "\n",
    "dict_ios_p = perc_app(dict_ios, total_ios)\n",
    "dict_gpl_cat_p = perc_app(dict_gpl_cat, total_gpl_cat)\n",
    "dict_gpl_gen_p = perc_app(dict_gpl_gen, total_gpl_gen)\n",
    "\n",
    "print_table('Genre', 'Perc', 'Dados IOS - Frequency Table', dict_ios_p, percent=True)\n"
   ]
  },
  {
   "cell_type": "markdown",
   "metadata": {},
   "source": [
    "We can see that among the free English apps, more than a half (58.36%) are games. Entertainment apps are close to 8%, followed by photo and video apps, which are close to 5%. Only 3.7% of the apps are designed for education, followed by social networking apps which amount for 3.26% of the apps in our data set.\n",
    "\n",
    "The general impression is that App Store (at least the part containing free English apps) is dominated by apps that are designed for fun (games, entertainment, photo and video, social networking, sports, music, etc.), while apps with practical purposes (education, shopping, utilities, productivity, lifestyle, etc.) are more rare. However, the fact that fun apps are the most numerous doesn't also imply that they also have the greatest number of users — the demand might not be the same as the offer."
   ]
  },
  {
   "cell_type": "code",
   "execution_count": 20,
   "metadata": {
    "ExecuteTime": {
     "end_time": "2019-12-03T22:42:56.141539Z",
     "start_time": "2019-12-03T22:42:56.109604Z"
    }
   },
   "outputs": [
    {
     "name": "stdout",
     "output_type": "stream",
     "text": [
      "Dados GPL - Frequency Table - Total Genre 115 \n",
      "\n",
      "+-----------------+-------+\n",
      "|      Genre      |  Perc |\n",
      "+-----------------+-------+\n",
      "|      Tools      |  8.43 |\n",
      "|  Entertainment  |  6.1  |\n",
      "|    Education    |  5.36 |\n",
      "|     Business    |  4.58 |\n",
      "|    Lifestyle    |  3.9  |\n",
      "|   Productivity  |  3.9  |\n",
      "|     Finance     |  3.69 |\n",
      "|     Medical     |  3.52 |\n",
      "|      Sports     |  3.46 |\n",
      "| Personalization |  3.32 |\n",
      "|  Communication  |  3.23 |\n",
      "|       ...       |  ...  |\n",
      "|      Total      | 100.0 |\n",
      "+-----------------+-------+\n",
      "\n",
      "\n"
     ]
    }
   ],
   "source": [
    "print_table('Genre', 'Perc', 'Dados GPL - Frequency Table', dict_gpl_gen_p, percent=True)"
   ]
  },
  {
   "cell_type": "markdown",
   "metadata": {},
   "source": [
    "\n",
    "The landscape seems significantly different on Google Play: there are not that many apps designed for fun, and it seems that a good number of apps are designed for practical purposes (family, tools, business, lifestyle, productivity, etc.). However, if we investigate this further, we can see that the family category (which accounts for almost 19% of the apps) means mostly games for kids.\n",
    "\n",
    "Even so, practical apps seem to have a better representation on Google Play compared to App Store. This picture is also confirmed by the frequency table we see for the Genres column:\n"
   ]
  },
  {
   "cell_type": "code",
   "execution_count": 21,
   "metadata": {
    "ExecuteTime": {
     "end_time": "2019-12-03T22:42:56.172337Z",
     "start_time": "2019-12-03T22:42:56.148811Z"
    }
   },
   "outputs": [
    {
     "name": "stdout",
     "output_type": "stream",
     "text": [
      "Dados GPL - Frequency Table - Total Category 33 \n",
      "\n",
      "+-----------------+-------+\n",
      "|     Category    |  Perc |\n",
      "+-----------------+-------+\n",
      "|      FAMILY     | 18.94 |\n",
      "|       GAME      |  9.7  |\n",
      "|      TOOLS      |  8.45 |\n",
      "|     BUSINESS    |  4.58 |\n",
      "|    LIFESTYLE    |  3.91 |\n",
      "|   PRODUCTIVITY  |  3.9  |\n",
      "|     FINANCE     |  3.69 |\n",
      "|     MEDICAL     |  3.53 |\n",
      "|      SPORTS     |  3.39 |\n",
      "| PERSONALIZATION |  3.32 |\n",
      "|  COMMUNICATION  |  3.23 |\n",
      "|       ...       |  ...  |\n",
      "|      Total      | 100.0 |\n",
      "+-----------------+-------+\n",
      "\n",
      "\n"
     ]
    }
   ],
   "source": [
    "print_table('Category', 'Perc', 'Dados GPL - Frequency Table', dict_gpl_cat_p, percent=True)"
   ]
  },
  {
   "cell_type": "markdown",
   "metadata": {},
   "source": [
    "The difference between the Genres and the Category columns is not crystal clear, but one thing we can notice is that the Genres column is much more granular (it has more categories). We're only looking for the bigger picture at the moment, so we'll only work with the Category column moving forward.\n",
    "\n",
    "Up to this point, we found that the App Store is dominated by apps designed for fun, while Google Play shows a more balanced landscape of both practical and for-fun apps. Now we'd like to get an idea about the kind of apps that have most users."
   ]
  },
  {
   "cell_type": "markdown",
   "metadata": {},
   "source": [
    "### Most Popular Apps by Genre on the App Store\n",
    "\n",
    "One way to find out what genres are the most popular (have the most users) is to calculate the average number of installs for each app genre.\n",
    "\n",
    "For the Google Play data set, we can find this information in the Installs column, but for the App Store data set this information is missing. As a workaround, we'll take the total number of user ratings as a proxy, which we can find in the rating_count_tot app.\n",
    "\n",
    "Below, we calculate the average number of user ratings per app genre on the App Store:\n"
   ]
  },
  {
   "cell_type": "code",
   "execution_count": 22,
   "metadata": {
    "ExecuteTime": {
     "end_time": "2019-12-03T22:42:56.204914Z",
     "start_time": "2019-12-03T22:42:56.177816Z"
    }
   },
   "outputs": [],
   "source": [
    "# para elaborar uma tabela de frequencia para installs / rating do app iremos utilizar:\n",
    "# dict_list = ac_rating, f_rating, qtd_app, dict_app\n",
    "\n",
    "def frating(data_all, dict_value, col_gen, col_rat, col_app):\n",
    "    \n",
    "    dict_rat = {}    \n",
    "\n",
    "    for row in data_all:\n",
    "        str_genre = row[col_gen] \n",
    "        ac_rating = float(row[col_rat])\n",
    "        app_name = row[col_app]\n",
    "        if str_genre in dict_rat:\n",
    "            dict_rat[str_genre][0] += ac_rating\n",
    "            dict_rat[str_genre][2] += 1\n",
    "            dict_rat[str_genre][3][app_name] = float(row[col_rat])\n",
    "        else:\n",
    "            dict_rat[str_genre] = [ac_rating, 0, 1, {}]\n",
    "            dict_rat[str_genre][3][app_name] = float(row[col_rat])\n",
    "            \n",
    "    dict_f = {}\n",
    "\n",
    "    for key in dict_rat:\n",
    "        freq = dict_rat[key][0] / dict_value[key]\n",
    "        dict_f[key] = freq\n",
    "        dict_rat[key][1] = freq\n",
    "        \n",
    "    dict_s = sort_dict(dict_f, skey=False) \n",
    "        \n",
    "    return dict_s, dict_rat"
   ]
  },
  {
   "cell_type": "code",
   "execution_count": 23,
   "metadata": {
    "ExecuteTime": {
     "end_time": "2019-12-03T22:42:56.222402Z",
     "start_time": "2019-12-03T22:42:56.209053Z"
    }
   },
   "outputs": [],
   "source": [
    "cabec_ios = 'Dados IOS - Genre'\n",
    "dict_ios_frating, dict_ios_rat = frating(data_ios[1:], dict_ios, 12, 6, 2)"
   ]
  },
  {
   "cell_type": "code",
   "execution_count": 24,
   "metadata": {
    "ExecuteTime": {
     "end_time": "2019-12-03T22:42:56.258582Z",
     "start_time": "2019-12-03T22:42:56.227490Z"
    }
   },
   "outputs": [],
   "source": [
    "def print_table_app(colun_name, colun_qname, titulo, dict_print, dict_s):   \n",
    "     \n",
    "    cont_aux = 0\n",
    "    ac_total = 0\n",
    "    \n",
    "    t = PrettyTable([colun_name, colun_qname, 'Qty App'])\n",
    "            \n",
    "    for key in dict_s:\n",
    "        ac_total += 1\n",
    "        t.add_row([key, str(round(dict_print[key][1], 2)), str(int(dict_print[key][2]))])\n",
    "        if ac_total > 40:\n",
    "            t.add_row(['...', '...', '...'])\n",
    "            break      \n",
    "   \n",
    "    str_titulo = titulo + ' - Total ' + colun_name + ' ' + str(len(dict_print))\n",
    "    print (str_titulo, '\\n')\n",
    "    print (t)\n",
    "    print ('\\n')\n",
    "    "
   ]
  },
  {
   "cell_type": "code",
   "execution_count": 25,
   "metadata": {
    "ExecuteTime": {
     "end_time": "2019-12-03T22:42:56.274094Z",
     "start_time": "2019-12-03T22:42:56.261572Z"
    }
   },
   "outputs": [
    {
     "name": "stdout",
     "output_type": "stream",
     "text": [
      "Dados IOS - Frequency Table - Total Genre 23 \n",
      "\n",
      "+-------------------+-------------+---------+\n",
      "|       Genre       | Freq Rating | Qty App |\n",
      "+-------------------+-------------+---------+\n",
      "|     Navigation    |   86090.33  |    6    |\n",
      "|     Reference     |   79350.47  |    17   |\n",
      "| Social Networking |   72916.55  |   104   |\n",
      "|       Music       |   58205.03  |    65   |\n",
      "|      Weather      |   52279.89  |    28   |\n",
      "|        Book       |   46384.92  |    12   |\n",
      "|    Food & Drink   |   33333.92  |    26   |\n",
      "|      Finance      |   32367.03  |    35   |\n",
      "|       Travel      |   29721.61  |    38   |\n",
      "|   Photo & Video   |   28441.54  |   160   |\n",
      "|      Shopping     |   27898.8   |    81   |\n",
      "|  Health & Fitness |   23298.02  |    65   |\n",
      "|       Sports      |   23008.9   |    69   |\n",
      "|       Games       |   22947.76  |   1861  |\n",
      "|    Productivity   |   21402.8   |    55   |\n",
      "|        News       |   21248.02  |    43   |\n",
      "|     Utilities     |   19649.7   |    77   |\n",
      "|     Lifestyle     |   16815.48  |    50   |\n",
      "|   Entertainment   |   14139.43  |   252   |\n",
      "|      Business     |   7491.12   |    17   |\n",
      "|     Education     |   7003.98   |   118   |\n",
      "|      Catalogs     |    4004.0   |    4    |\n",
      "|      Medical      |    612.0    |    6    |\n",
      "+-------------------+-------------+---------+\n",
      "\n",
      "\n"
     ]
    }
   ],
   "source": [
    "print_table_app('Genre', 'Freq Rating', 'Dados IOS - Frequency Table', dict_ios_rat, dict_ios_frating)"
   ]
  },
  {
   "cell_type": "markdown",
   "metadata": {},
   "source": [
    "On average, navigation apps have the highest number of user reviews, but this figure is heavily influenced by Waze and Google Maps (see below), which have close to half a million user reviews together. Note that navigation gender has 6 apps in total"
   ]
  },
  {
   "cell_type": "code",
   "execution_count": 26,
   "metadata": {
    "ExecuteTime": {
     "end_time": "2019-12-03T22:42:56.305847Z",
     "start_time": "2019-12-03T22:42:56.278082Z"
    }
   },
   "outputs": [
    {
     "name": "stdout",
     "output_type": "stream",
     "text": [
      "Dados IOS - Total Navigation - freq rating 86090.33 6 \n",
      "\n",
      "+--------------------------------------------------+----------+\n",
      "|        Navigation - freq rating 86090.33         |  Rating  |\n",
      "+--------------------------------------------------+----------+\n",
      "| Waze - GPS Navigation, Maps & Real-time Traffic  |  345046  |\n",
      "|        Google Maps - Navigation & Transit        |  154911  |\n",
      "|                   Geocaching®                    |  12811   |\n",
      "|   CoPilot GPS – Car Navigation & Offline Maps    |   3582   |\n",
      "| ImmobilienScout24: Real Estate Search in Germany |   187    |\n",
      "|               Railway Route Search               |    5     |\n",
      "|                      Total                       | 516542.0 |\n",
      "+--------------------------------------------------+----------+\n",
      "\n",
      "\n"
     ]
    }
   ],
   "source": [
    "# quais os app que estão no genero de Navigation\n",
    "\n",
    "str_name = 'Navigation'\n",
    "\n",
    "dict_s = sort_dict(dict_ios_rat[str_name][3], skey=False) \n",
    "\n",
    "str_col = str_name + ' - freq rating ' + str(round(dict_ios_rat[str_name][1], 2))\n",
    "        \n",
    "print_table(str_col, 'Rating', 'Dados IOS', dict_s, percent=False)\n"
   ]
  },
  {
   "cell_type": "code",
   "execution_count": 27,
   "metadata": {
    "ExecuteTime": {
     "end_time": "2019-12-03T22:42:56.341753Z",
     "start_time": "2019-12-03T22:42:56.309841Z"
    }
   },
   "outputs": [
    {
     "name": "stdout",
     "output_type": "stream",
     "text": [
      "Dados IOS - Total Reference - freq rating 79350.47 17 \n",
      "\n",
      "+--------------------------------------------------------------+-----------+\n",
      "|               Reference - freq rating 79350.47               |   Rating  |\n",
      "+--------------------------------------------------------------+-----------+\n",
      "|                            Bible                             |   985920  |\n",
      "|            Dictionary.com Dictionary & Thesaurus             |   200047  |\n",
      "|        Dictionary.com Dictionary & Thesaurus for iPad        |   54175   |\n",
      "|                       Google Translate                       |   26786   |\n",
      "|      Muslim Pro: Ramadan 2017 Prayer Times, Azan, Quran      |   18418   |\n",
      "| New Furniture Mods - Pocket Wiki & Game Tools for Minecraft  |   17588   |\n",
      "|                  Merriam-Webster Dictionary                  |   16849   |\n",
      "|                          Night Sky                           |   12122   |\n",
      "| City Maps for Minecraft PE - The Best Maps for Minecraft Poc |    8535   |\n",
      "| LUCKY BLOCK MOD ™ for Minecraft PC Edition - The Best Pocket |    4693   |\n",
      "|       GUNS MODS for Minecraft PC Edition - Mods Tools        |    1497   |\n",
      "|                             ...                              |    ...    |\n",
      "|                            Total                             | 1348958.0 |\n",
      "+--------------------------------------------------------------+-----------+\n",
      "\n",
      "\n"
     ]
    }
   ],
   "source": [
    "# quais os app que estão no genero de Reference\n",
    "\n",
    "str_name = 'Reference'\n",
    "\n",
    "dict_s = sort_dict(dict_ios_rat[str_name][3], skey=False) \n",
    "\n",
    "str_col = str_name + ' - freq rating ' + str(round(dict_ios_rat[str_name][1], 2))\n",
    "        \n",
    "print_table(str_col, 'Rating', 'Dados IOS', dict_s, percent=False)\n"
   ]
  },
  {
   "cell_type": "code",
   "execution_count": 28,
   "metadata": {
    "ExecuteTime": {
     "end_time": "2019-12-03T22:42:56.374728Z",
     "start_time": "2019-12-03T22:42:56.347085Z"
    }
   },
   "outputs": [
    {
     "name": "stdout",
     "output_type": "stream",
     "text": [
      "Dados IOS - Total Social Networking - freq rating 72916.55 104 \n",
      "\n",
      "+--------------------------------------------+-----------+\n",
      "|  Social Networking - freq rating 72916.55  |   Rating  |\n",
      "+--------------------------------------------+-----------+\n",
      "|                  Facebook                  |  2974676  |\n",
      "|                 Pinterest                  |  1061624  |\n",
      "|              Skype for iPhone              |   373519  |\n",
      "|                 Messenger                  |   351466  |\n",
      "|                   Tumblr                   |   334293  |\n",
      "|             WhatsApp Messenger             |   287589  |\n",
      "|                    Kik                     |   260965  |\n",
      "|  ooVoo – Free Video Call, Text and Voice   |   177501  |\n",
      "|      TextNow - Unlimited Text + Calls      |   164963  |\n",
      "|       Viber Messenger – Text & Call        |   164249  |\n",
      "| Followers - Social Analytics For Instagram |   112778  |\n",
      "|                    ...                     |    ...    |\n",
      "|                   Total                    | 7583321.0 |\n",
      "+--------------------------------------------+-----------+\n",
      "\n",
      "\n"
     ]
    }
   ],
   "source": [
    "str_name = 'Social Networking'\n",
    "\n",
    "dict_s = sort_dict(dict_ios_rat[str_name][3], skey=False) \n",
    "\n",
    "str_col = str_name + ' - freq rating ' + str(round(dict_ios_rat[str_name][1], 2))\n",
    "        \n",
    "print_table(str_col, 'Rating', 'Dados IOS', dict_s, percent=False)\n"
   ]
  },
  {
   "cell_type": "code",
   "execution_count": 29,
   "metadata": {
    "ExecuteTime": {
     "end_time": "2019-12-03T22:42:56.405820Z",
     "start_time": "2019-12-03T22:42:56.378916Z"
    }
   },
   "outputs": [
    {
     "name": "stdout",
     "output_type": "stream",
     "text": [
      "Dados IOS - Total Book - freq rating 46384.92 12 \n",
      "\n",
      "+---------------------------------------------------+----------+\n",
      "|            Book - freq rating 46384.92            |  Rating  |\n",
      "+---------------------------------------------------+----------+\n",
      "|    Kindle – Read eBooks, Magazines & Textbooks    |  252076  |\n",
      "| Audible – audio books, original series & podcasts |  105274  |\n",
      "|    Color Therapy Adult Coloring Book for Adults   |  84062   |\n",
      "|     OverDrive – Library eBooks and Audiobooks     |  65450   |\n",
      "|               HOOKED - Chat Stories               |  47829   |\n",
      "| BookShout: Read eBooks & Track Your Reading Goals |   879    |\n",
      "|      Dr. Seuss Treasury — 50 best kids books      |   451    |\n",
      "|                 Green Riding Hood                 |   392    |\n",
      "|                  Weirdwood Manor                  |   197    |\n",
      "|              MangaZERO - comic reader             |    9     |\n",
      "|           MangaTiara - love comic reader          |    0     |\n",
      "|                        ...                        |   ...    |\n",
      "|                       Total                       | 556619.0 |\n",
      "+---------------------------------------------------+----------+\n",
      "\n",
      "\n"
     ]
    }
   ],
   "source": [
    "str_name = 'Book'\n",
    "\n",
    "dict_s = sort_dict(dict_ios_rat[str_name][3], skey=False) \n",
    "\n",
    "str_col = str_name + ' - freq rating ' + str(round(dict_ios_rat[str_name][1], 2))\n",
    "        \n",
    "print_table(str_col, 'Rating', 'Dados IOS', dict_s, percent=False)"
   ]
  },
  {
   "cell_type": "markdown",
   "metadata": {},
   "source": [
    "However, 'Reference' niche seems to show some potential or may be \"Book\" niche. One thing we could do is take another popular book and turn it into an app where we could add different features besides the raw version of the book. This might include daily quotes from the book, an audio version of the book, quizzes about the book, etc. On top of that, we could also embed a dictionary within the app, so users don't need to exit our app to look up words in an external app.\n",
    "\n",
    "This idea seems to fit well with the fact that the App Store is dominated by for-fun apps. This suggests the market might be a bit saturated with for-fun apps, which means a practical app might have more of a chance to stand out among the huge number of apps on the App Store.\n",
    "\n",
    "Other genres that seem popular include weather, book, food and drink, or finance. The book genre seem to overlap a bit with the app idea we described above, but the other genres don't seem too interesting to us:\n",
    "\n",
    "    Weather apps — people generally don't spend too much time in-app, and the chances of making profit from in-app adds are low. Also, getting reliable live weather data may require us to connect our apps to non-free APIs.\n",
    "\n",
    "    Food and drink — examples here include Starbucks, Dunkin' Donuts, McDonald's, etc. So making a popular food and drink app requires actual cooking and a delivery service, which is outside the scope of our company.\n",
    "\n",
    "    Finance apps — these apps involve banking, paying bills, money transfer, etc. Building a finance app requires domain knowledge, and we don't want to hire a finance expert just to build an app.\n",
    "\n",
    "Now let's analyze the Google Play market a bit."
   ]
  },
  {
   "cell_type": "markdown",
   "metadata": {},
   "source": [
    "### Most Popular Apps by Genre on Google Play\n",
    "\n",
    "For the Google Play market, we actually have data about the number of installs, so we should be able to get a clearer picture about genre popularity. Let's go to see the app and install for category \"Family\""
   ]
  },
  {
   "cell_type": "code",
   "execution_count": 30,
   "metadata": {
    "ExecuteTime": {
     "end_time": "2019-12-03T22:42:56.420972Z",
     "start_time": "2019-12-03T22:42:56.410332Z"
    }
   },
   "outputs": [
    {
     "name": "stdout",
     "output_type": "stream",
     "text": [
      "Jewels Crush- Match 3 Puzzle   1,000,000+\n",
      "Coloring & Learn   5,000,000+\n",
      "Mahjong   5,000,000+\n",
      "Toy Pop Cubes   1,000,000+\n",
      "Educational Games 4 Kids   5,000,000+\n",
      "Candy Pop Story   1,000,000+\n",
      "Candy Smash   1,000,000+\n",
      "Happy Fruits Bomb - Cube Blast   500,000+\n",
      "Princess Adventures Puzzles   500,000+\n",
      "Kids Educational Game 3 Free   5,000,000+\n",
      "Puzzle Kids - Animals Shapes and Jigsaw Puzzles   1,000,000+\n"
     ]
    }
   ],
   "source": [
    "ac_cont = 0\n",
    "for row in data_gpl:\n",
    "    if row[1] == 'FAMILY':\n",
    "        print (row[0], ' ', row[5])\n",
    "        ac_cont +=1\n",
    "        if ac_cont > 10:\n",
    "            break"
   ]
  },
  {
   "cell_type": "markdown",
   "metadata": {},
   "source": [
    "However, the install numbers don't seem precise enough — we can see that most values are open-ended (100+, 1,000+, 5,000+, etc.).\n",
    "\n",
    "One problem with this data is that is not precise. For instance, we don't know whether an app with 100,000+ installs has 100,000 installs, 200,000, or 350,000. However, we don't need very precise data for our purposes — we only want to get an idea which app genres attract the most users, and we don't need perfect precision with respect to the number of users.\n",
    "\n",
    "We're going to leave the numbers as they are, which means that we'll consider that an app with 100,000+ installs has 100,000 installs, and an app with 1,000,000+ installs has 1,000,000 installs, and so on.\n",
    "\n",
    "To perform computations, however, we'll need to convert each install number to float — this means that we need to remove the commas and the plus characters, otherwise the conversion will fail and raise an error. We'll do this directly in the loop below, where we also compute the average number of installs for each genre (category).\n"
   ]
  },
  {
   "cell_type": "code",
   "execution_count": 31,
   "metadata": {
    "ExecuteTime": {
     "end_time": "2019-12-03T22:42:56.441545Z",
     "start_time": "2019-12-03T22:42:56.424176Z"
    }
   },
   "outputs": [
    {
     "name": "stdout",
     "output_type": "stream",
     "text": [
      "5000000\n"
     ]
    }
   ],
   "source": [
    "str_value = '5,000,000+'\n",
    "\n",
    "str_value= str_value.replace(',', '')\n",
    "str_value= str_value.replace('+', '')\n",
    "print (str_value)\n",
    "\n",
    "song = 'cold, cold heart'\n",
    "replaced_song =  song.replace('o', 'e')"
   ]
  },
  {
   "cell_type": "code",
   "execution_count": 32,
   "metadata": {
    "ExecuteTime": {
     "end_time": "2019-12-03T22:42:56.475077Z",
     "start_time": "2019-12-03T22:42:56.445724Z"
    }
   },
   "outputs": [],
   "source": [
    "# para elaborar uma tabela de frequencia para installs iremos utilizar:\n",
    "# dict_list = ac_rating, f_rating, qtd_app, dict_app\n",
    "\n",
    "def finstall(data_all, dict_value, col_gen, col_install, col_app):\n",
    "    \n",
    "    dict_rat = {}    \n",
    "\n",
    "    for row in data_all:\n",
    "        str_genre = row[col_gen] \n",
    "        if str_genre != '1.9':\n",
    "            str_install = row[col_install]\n",
    "            str_install = str_install.replace(',', '')\n",
    "            str_install = str_install.replace('+', '')\n",
    "            ac_install = int(str_install)\n",
    "            app_name = row[col_app]\n",
    "            if str_genre in dict_rat:\n",
    "                dict_rat[str_genre][0] += ac_install\n",
    "                dict_rat[str_genre][2] += 1\n",
    "                dict_rat[str_genre][3][app_name] = ac_install\n",
    "            else:\n",
    "                dict_rat[str_genre] = [ac_install, 0, 1, {}]\n",
    "                dict_rat[str_genre][3][app_name] = ac_install\n",
    "                \n",
    "            \n",
    "    dict_f = {}\n",
    "\n",
    "    for key in dict_rat:\n",
    "        freq = dict_rat[key][0] / dict_value[key]\n",
    "        dict_f[key] = freq\n",
    "        dict_rat[key][1] = freq\n",
    "        \n",
    "    dict_s = sort_dict(dict_f, skey=False) \n",
    "        \n",
    "    return dict_s, dict_rat"
   ]
  },
  {
   "cell_type": "code",
   "execution_count": 33,
   "metadata": {
    "ExecuteTime": {
     "end_time": "2019-12-03T22:42:56.507827Z",
     "start_time": "2019-12-03T22:42:56.477070Z"
    }
   },
   "outputs": [],
   "source": [
    "cabec_gpl = 'Dados GPL - Category'\n",
    "dict_gpl_frating, dict_gpl_rat = finstall(data_gpl[1:], dict_gpl_cat, 1, 5, 0)"
   ]
  },
  {
   "cell_type": "code",
   "execution_count": 34,
   "metadata": {
    "ExecuteTime": {
     "end_time": "2019-12-03T22:42:56.523626Z",
     "start_time": "2019-12-03T22:42:56.510874Z"
    }
   },
   "outputs": [
    {
     "name": "stdout",
     "output_type": "stream",
     "text": [
      "Dados GPL - Frequency Table - Total Category 33 \n",
      "\n",
      "+---------------------+--------------+---------+\n",
      "|       Category      | Freq Install | Qty App |\n",
      "+---------------------+--------------+---------+\n",
      "|    COMMUNICATION    | 38456119.17  |   287   |\n",
      "|    VIDEO_PLAYERS    | 24727872.45  |   159   |\n",
      "|        SOCIAL       | 23253652.13  |   236   |\n",
      "|     PHOTOGRAPHY     | 17772018.76  |   262   |\n",
      "|     PRODUCTIVITY    | 16738957.55  |   346   |\n",
      "|         GAME        | 15594505.75  |   861   |\n",
      "|   TRAVEL_AND_LOCAL  | 13984077.71  |   207   |\n",
      "|    ENTERTAINMENT    | 11640705.88  |    85   |\n",
      "|        TOOLS        |  10801391.3  |   750   |\n",
      "|  NEWS_AND_MAGAZINES |  9401635.95  |   252   |\n",
      "| BOOKS_AND_REFERENCE |  8631794.09  |   193   |\n",
      "|       SHOPPING      |  7036877.31  |   199   |\n",
      "|   PERSONALIZATION   |  5183850.81  |   295   |\n",
      "|       WEATHER       |  5074486.2   |    71   |\n",
      "|  HEALTH_AND_FITNESS |  4188821.99  |   273   |\n",
      "| MAPS_AND_NAVIGATION |  4050083.58  |   123   |\n",
      "|        FAMILY       |  3691489.41  |   1682  |\n",
      "|        SPORTS       |  3638640.14  |   301   |\n",
      "|    ART_AND_DESIGN   |  1952105.17  |    58   |\n",
      "|    FOOD_AND_DRINK   |  1924897.74  |   110   |\n",
      "|      EDUCATION      |  1825480.77  |   104   |\n",
      "|       BUSINESS      |  1712290.15  |   407   |\n",
      "|      LIFESTYLE      |  1433960.89  |   347   |\n",
      "|       FINANCE       |  1387692.48  |   328   |\n",
      "|    HOUSE_AND_HOME   |  1348645.29  |    72   |\n",
      "|        DATING       |  854028.83   |   165   |\n",
      "|        COMICS       |  814280.56   |    54   |\n",
      "|  AUTO_AND_VEHICLES  |  647317.82   |    82   |\n",
      "|  LIBRARIES_AND_DEMO |  638503.73   |    83   |\n",
      "|      PARENTING      |  542603.62   |    58   |\n",
      "|        BEAUTY       |  513151.89   |    53   |\n",
      "|        EVENTS       |  253542.22   |    63   |\n",
      "|       MEDICAL       |  120550.62   |   313   |\n",
      "+---------------------+--------------+---------+\n",
      "\n",
      "\n"
     ]
    }
   ],
   "source": [
    "# print (dict_gpl_frating)\n",
    "print_table_app('Category', 'Freq Install', 'Dados GPL - Frequency Table', dict_gpl_rat, dict_gpl_frating)"
   ]
  },
  {
   "cell_type": "markdown",
   "metadata": {},
   "source": [
    "On average, communication apps have the most installs: 38.456.119,17. This number is heavily skewed up by a few apps that have over one billion installs (WhatsApp, Facebook Messenger, Skype, Google Chrome, Gmail, and Hangouts), and a few others with over 100 and 500 million installs:"
   ]
  },
  {
   "cell_type": "code",
   "execution_count": 35,
   "metadata": {
    "ExecuteTime": {
     "end_time": "2019-12-03T22:42:56.571934Z",
     "start_time": "2019-12-03T22:42:56.524625Z"
    }
   },
   "outputs": [
    {
     "name": "stdout",
     "output_type": "stream",
     "text": [
      "Dados GPL - Total COMMUNICATION - freq install 20905923.34 6 \n",
      "\n",
      "+------------------------------------------+--------------+\n",
      "| COMMUNICATION - freq install 20905923.34 |    Rating    |\n",
      "+------------------------------------------+--------------+\n",
      "|                  Gmail                   |  1000000000  |\n",
      "|       Google Chrome: Fast & Secure       |  1000000000  |\n",
      "|                 Hangouts                 |  1000000000  |\n",
      "| Messenger – Text and Video Chat for Free |  1000000000  |\n",
      "|      Skype - free IM & video calls       |  1000000000  |\n",
      "|            WhatsApp Messenger            |  1000000000  |\n",
      "|                  Total                   | 6000000000.0 |\n",
      "+------------------------------------------+--------------+\n",
      "\n",
      "\n"
     ]
    }
   ],
   "source": [
    "# para elaborar uma tabela de frequencia para installs iremos utilizar:\n",
    "# dict_list = ac_rating, f_rating, qtd_app, dict_app\n",
    "\n",
    "def f_install(data_all, dict_value, col_gen, col_install, col_app, oper):\n",
    "    \n",
    "    dict_rat = {}    \n",
    "\n",
    "    for row in data_all:\n",
    "        str_genre = row[col_gen] \n",
    "        if str_genre != '1.9':\n",
    "            str_install = row[col_install]\n",
    "            str_install = str_install.replace(',', '')\n",
    "            str_install = str_install.replace('+', '')\n",
    "            ac_install = int(str_install)\n",
    "            app_name = row[col_app]\n",
    "            if (oper == '=' and ac_install == 1000000000) or \\\n",
    "            (oper == '>' and ac_install > 1000000000) or \\\n",
    "            (oper == '<' and ac_install < 1000000000):            \n",
    "                if str_genre in dict_rat:\n",
    "                    dict_rat[str_genre][0] += ac_install\n",
    "                    dict_rat[str_genre][2] += 1\n",
    "                    dict_rat[str_genre][3][app_name] = ac_install\n",
    "                else:\n",
    "                    dict_rat[str_genre] = [ac_install, 0, 1, {}]\n",
    "                    dict_rat[str_genre][3][app_name] = ac_install\n",
    "                \n",
    "            \n",
    "    dict_f = {}\n",
    "\n",
    "    for key in dict_rat:\n",
    "        freq = dict_rat[key][0] / dict_value[key]\n",
    "        dict_f[key] = freq\n",
    "        dict_rat[key][1] = freq\n",
    "        \n",
    "    dict_s = sort_dict(dict_f, skey=False) \n",
    "        \n",
    "    return dict_s, dict_rat\n",
    "\n",
    "cabec_gpl = 'Dados GPL - Category'\n",
    "dict_gpl_frating, dict_gpl_rat = f_install(data_gpl[1:], dict_gpl_cat, 1, 5, 0, '=')\n",
    "\n",
    "str_name = 'COMMUNICATION'\n",
    "\n",
    "dict_s = sort_dict(dict_gpl_rat[str_name][3], skey=False)    \n",
    "\n",
    "str_col = str_name + ' - freq install ' + str(round(dict_gpl_rat[str_name][1], 2))\n",
    "        \n",
    "print_table(str_col, 'Rating', 'Dados GPL', dict_s, percent=False)"
   ]
  },
  {
   "cell_type": "code",
   "execution_count": 36,
   "metadata": {
    "ExecuteTime": {
     "end_time": "2019-12-03T22:42:56.641704Z",
     "start_time": "2019-12-03T22:42:56.579072Z"
    }
   },
   "outputs": [
    {
     "name": "stdout",
     "output_type": "stream",
     "text": [
      "Dados GPL - Frequency Table - Total Category 33 \n",
      "\n",
      "+---------------------+--------------+---------+\n",
      "|       Category      | Freq Install | Qty App |\n",
      "+---------------------+--------------+---------+\n",
      "|    COMMUNICATION    | 17550195.82  |   281   |\n",
      "|         GAME        | 14433065.56  |   860   |\n",
      "|     PHOTOGRAPHY     | 13955224.87  |   261   |\n",
      "|     PRODUCTIVITY    | 13848784.14  |   345   |\n",
      "|    VIDEO_PLAYERS    |  12149256.1  |   157   |\n",
      "|    ENTERTAINMENT    | 11640705.88  |    85   |\n",
      "|        SOCIAL       | 10541787.72  |   233   |\n",
      "|        TOOLS        |  9468057.97  |   749   |\n",
      "|       SHOPPING      |  7036877.31  |   199   |\n",
      "|  NEWS_AND_MAGAZINES |  5433381.98  |   251   |\n",
      "|   PERSONALIZATION   |  5183850.81  |   295   |\n",
      "|       WEATHER       |  5074486.2   |    71   |\n",
      "|   TRAVEL_AND_LOCAL  |  4322241.96  |   205   |\n",
      "|  HEALTH_AND_FITNESS |  4188821.99  |   273   |\n",
      "| MAPS_AND_NAVIGATION |  4050083.58  |   123   |\n",
      "|        SPORTS       |  3638640.14  |   301   |\n",
      "| BOOKS_AND_REFERENCE |  3450446.94  |   192   |\n",
      "|        FAMILY       |  3096959.09  |   1681  |\n",
      "|    ART_AND_DESIGN   |  1952105.17  |    58   |\n",
      "|    FOOD_AND_DRINK   |  1924897.74  |   110   |\n",
      "|      EDUCATION      |  1825480.77  |   104   |\n",
      "|       BUSINESS      |  1712290.15  |   407   |\n",
      "|      LIFESTYLE      |  1433960.89  |   347   |\n",
      "|       FINANCE       |  1387692.48  |   328   |\n",
      "|    HOUSE_AND_HOME   |  1348645.29  |    72   |\n",
      "|        DATING       |  854028.83   |   165   |\n",
      "|        COMICS       |  814280.56   |    54   |\n",
      "|  AUTO_AND_VEHICLES  |  647317.82   |    82   |\n",
      "|  LIBRARIES_AND_DEMO |  638503.73   |    83   |\n",
      "|      PARENTING      |  542603.62   |    58   |\n",
      "|        BEAUTY       |  513151.89   |    53   |\n",
      "|        EVENTS       |  253542.22   |    63   |\n",
      "|       MEDICAL       |  120550.62   |   313   |\n",
      "+---------------------+--------------+---------+\n",
      "\n",
      "\n",
      "Dados GPL - Total COMMUNICATION - freq install 17550195.82 281 \n",
      "\n",
      "+---------------------------------------------+--------------+\n",
      "|   COMMUNICATION - freq install 17550195.82  |    Rating    |\n",
      "+---------------------------------------------+--------------+\n",
      "|    Google Duo - High Quality Video Calls    |  500000000   |\n",
      "|         LINE: Free Calls & Messages         |  500000000   |\n",
      "| UC Browser - Fast Download Private & Secure |  500000000   |\n",
      "|               Viber Messenger               |  500000000   |\n",
      "|        imo free video calls and chat        |  500000000   |\n",
      "|               Android Messages              |  100000000   |\n",
      "|         BBM - Free Calls & Messages         |  100000000   |\n",
      "|        Firefox Browser fast & private       |  100000000   |\n",
      "|  GO SMS Pro - Messenger, Free Themes, Emoji |  100000000   |\n",
      "|         KakaoTalk: Free Calls & Text        |  100000000   |\n",
      "|                     Kik                     |  100000000   |\n",
      "|                     ...                     |     ...      |\n",
      "|                    Total                    | 5036906201.0 |\n",
      "+---------------------------------------------+--------------+\n",
      "\n",
      "\n"
     ]
    }
   ],
   "source": [
    "cabec_gpl = 'Dados GPL - Category'\n",
    "dict_gpl_frating, dict_gpl_rat = f_install(data_gpl[1:], dict_gpl_cat, 1, 5, 0, '<')\n",
    "\n",
    "# print (dict_gpl_frating)\n",
    "print_table_app('Category', 'Freq Install', 'Dados GPL - Frequency Table', dict_gpl_rat, dict_gpl_frating)\n",
    "\n",
    "str_name = 'COMMUNICATION'\n",
    "\n",
    "dict_s = sort_dict(dict_gpl_rat[str_name][3], skey=False)    \n",
    "\n",
    "str_col = str_name + ' - freq install ' + str(round(dict_gpl_rat[str_name][1], 2))\n",
    "        \n",
    "print_table(str_col, 'Rating', 'Dados GPL', dict_s, percent=False)\n",
    "\n"
   ]
  },
  {
   "cell_type": "code",
   "execution_count": 37,
   "metadata": {
    "ExecuteTime": {
     "end_time": "2019-12-03T22:42:56.689278Z",
     "start_time": "2019-12-03T22:42:56.649023Z"
    }
   },
   "outputs": [],
   "source": [
    "# came back to original values\n",
    "cabec_gpl = 'Dados GPL - Category'\n",
    "dict_gpl_frating, dict_gpl_rat = finstall(data_gpl[1:], dict_gpl_cat, 1, 5, 0)"
   ]
  },
  {
   "cell_type": "markdown",
   "metadata": {},
   "source": [
    "We see the same pattern for the video players category, which is the runner-up with 24,727,872 installs. The market is dominated by apps like Youtube, Google Play Movies & TV, or MX Player. The pattern is repeated for social apps (where we have giants like Facebook, Instagram, Google+, etc.), photography apps (Google Photos and other popular photo editors), or productivity apps (Microsoft Word, Dropbox, Google Calendar, Evernote, etc.).\n",
    "\n",
    "Again, the main concern is that these app genres might seem more popular than they really are. Moreover, these niches seem to be dominated by a few giants who are hard to compete against.\n",
    "\n",
    "The game genre seems pretty popular, but previously we found out this part of the market seems a bit saturated, so we'd like to come up with a different app recommendation if possible.\n",
    "\n",
    "The books and reference genre looks fairly popular as well, with an average number of installs of 8,767,811. It's interesting to explore this in more depth, since we found this genre has some potential to work well on the App Store, and our aim is to recommend an app genre that shows potential for being profitable on both the App Store and Google Play.\n",
    "\n",
    "Let's take a look at some of the apps from this genre and their number of installs:\n"
   ]
  },
  {
   "cell_type": "code",
   "execution_count": 38,
   "metadata": {
    "ExecuteTime": {
     "end_time": "2019-12-03T22:42:56.725887Z",
     "start_time": "2019-12-03T22:42:56.694301Z"
    }
   },
   "outputs": [
    {
     "name": "stdout",
     "output_type": "stream",
     "text": [
      "Dados GPL - Total BOOKS_AND_REFERENCE - freq install 8631794.09 193 \n",
      "\n",
      "+-----------------------------------------------+--------------+\n",
      "| BOOKS_AND_REFERENCE - freq install 8631794.09 |    Rating    |\n",
      "+-----------------------------------------------+--------------+\n",
      "|               Google Play Books               |  1000000000  |\n",
      "|                 Amazon Kindle                 |  100000000   |\n",
      "|            Audiobooks from Audible            |  100000000   |\n",
      "|                     Bible                     |  100000000   |\n",
      "|              Wattpad 📖 Free Books             |  100000000   |\n",
      "|               Al Quran Indonesia              |   10000000   |\n",
      "|           Al'Quran Bahasa Indonesia           |   10000000   |\n",
      "|                Al-Quran (Free)                |   10000000   |\n",
      "|               Aldiko Book Reader              |   10000000   |\n",
      "|                  Cool Reader                  |   10000000   |\n",
      "|                   Dictionary                  |   10000000   |\n",
      "|                      ...                      |     ...      |\n",
      "|                     Total                     | 1665936260.0 |\n",
      "+-----------------------------------------------+--------------+\n",
      "\n",
      "\n"
     ]
    }
   ],
   "source": [
    "str_name = 'BOOKS_AND_REFERENCE'\n",
    "\n",
    "dict_s = sort_dict(dict_gpl_rat[str_name][3], skey=False)    \n",
    "\n",
    "str_col = str_name + ' - freq install ' + str(round(dict_gpl_rat[str_name][1], 2))\n",
    "        \n",
    "print_table(str_col, 'Rating', 'Dados GPL', dict_s, percent=False)\n",
    "\n"
   ]
  },
  {
   "cell_type": "markdown",
   "metadata": {},
   "source": [
    "The book and reference genre includes a variety of apps: software for processing and reading ebooks, various collections of libraries, dictionaries, tutorials on programming or languages, etc. It seems there's still a small number of extremely popular apps that skew the average:"
   ]
  },
  {
   "cell_type": "code",
   "execution_count": 39,
   "metadata": {
    "ExecuteTime": {
     "end_time": "2019-12-03T22:42:56.773852Z",
     "start_time": "2019-12-03T22:42:56.728876Z"
    }
   },
   "outputs": [
    {
     "name": "stdout",
     "output_type": "stream",
     "text": [
      "Al Quran Indonesia   10000000\n",
      "Al'Quran Bahasa Indonesia   10000000\n",
      "Al-Quran (Free)   10000000\n",
      "Aldiko Book Reader   10000000\n",
      "Cool Reader   10000000\n",
      "Dictionary   10000000\n",
      "Dictionary - Merriam-Webster   10000000\n",
      "Dictionary.com: Find Definitions for English Words   10000000\n",
      "English Dictionary - Offline   10000000\n",
      "English Hindi Dictionary   10000000\n",
      "FBReader: Favorite Book Reader   10000000\n",
      "HTC Help   10000000\n",
      "JW Library   10000000\n",
      "Moon+ Reader   10000000\n",
      "NOOK: Read eBooks & Magazines   10000000\n",
      "Oxford Dictionary of English : Free   10000000\n",
      "Quran for Android   10000000\n",
      "Spanish English Translator   10000000\n",
      "Wikipedia   10000000\n",
      "50000 Free eBooks & Free AudioBooks   5000000\n",
      "Al Quran : EAlim - Translations & MP3 Offline   5000000\n",
      "AlReader -any text book reader   5000000\n",
      "Ancestry   5000000\n",
      "Bible KJV   5000000\n",
      "Dictionary - WordWeb   5000000\n",
      "Ebook Reader   5000000\n",
      "English to Hindi Dictionary   5000000\n",
      "Read books online   5000000\n",
      "Al Quran Al karim   1000000\n",
      "All Language Translator Free   1000000\n",
      "All Maths Formulas   1000000\n",
      "Book store   1000000\n",
      "Brilliant Quotes: Life, Love, Family & Motivation   1000000\n",
      "Cloud of Books   1000000\n",
      "EGW Writings   1000000\n",
      "English-Myanmar Dictionary   1000000\n",
      "FamilySearch Tree   1000000\n",
      "Free Books - Spirit Fanfiction and Stories   1000000\n",
      "Golden Dictionary (EN-AR)   1000000\n",
      "Hafizi Quran 15 lines per page   1000000\n",
      "Koran Read &MP3 30 Juz Offline   1000000\n",
      "My Little Pony AR Guide   1000000\n",
      "Oxford A-Z of English Usage   1000000\n",
      "ReadEra – free ebook reader   1000000\n",
      "Satellite AR   1000000\n",
      "Stats Royale for Clash Royale   1000000\n",
      "eBoox: book reader fb2 epub zip   1000000\n",
      "wikiHow: how to do anything   1000000\n"
     ]
    }
   ],
   "source": [
    "str_name = 'BOOKS_AND_REFERENCE'\n",
    "\n",
    "dict_s = sort_dict(dict_gpl_rat[str_name][3], skey=False)    \n",
    "for key in dict_s:\n",
    "    if dict_s[key] == int(1000000) or \\\n",
    "        dict_s[key] == int(5000000) or \\\n",
    "        dict_s[key] == int(10000000) or \\\n",
    "        dict_s[key] == int(50000000):\n",
    "        print(key, ' ', dict_s[key])\n",
    "    "
   ]
  },
  {
   "cell_type": "markdown",
   "metadata": {},
   "source": [
    "This niche seems to be dominated by software for processing and reading ebooks, as well as various collections of libraries and dictionaries, so it's probably not a good idea to build similar apps since there'll be some significant competition.\n",
    "\n",
    "We also notice there are quite a few apps built around the book Quran, which suggests that building an app around a popular book can be profitable. It seems that taking a popular book (perhaps a more recent book) and turning it into an app could be profitable for both the Google Play and the App Store markets.\n",
    "\n",
    "However, it looks like the market is already full of libraries, so we need to add some special features besides the raw version of the book. This might include daily quotes from the book, an audio version of the book, quizzes on the book, a forum where people can discuss the book, etc."
   ]
  },
  {
   "cell_type": "markdown",
   "metadata": {},
   "source": [
    "# Conclusions\n",
    "\n",
    "In this project, we analyzed data about the App Store and Google Play mobile apps with the goal of recommending an app profile that can be profitable for both markets.\n",
    "\n",
    "We concluded that taking a popular book (perhaps a more recent book) and turning it into an app could be profitable for both the Google Play and the App Store markets. The markets are already full of libraries, so we need to add some special features besides the raw version of the book. This might include daily quotes from the book, an audio version of the book, quizzes on the book, a forum where people can discuss the book, etc."
   ]
  }
 ],
 "metadata": {
  "kernelspec": {
   "display_name": "Python 3",
   "language": "python",
   "name": "python3"
  },
  "language_info": {
   "codemirror_mode": {
    "name": "ipython",
    "version": 3
   },
   "file_extension": ".py",
   "mimetype": "text/x-python",
   "name": "python",
   "nbconvert_exporter": "python",
   "pygments_lexer": "ipython3",
   "version": "3.7.0"
  }
 },
 "nbformat": 4,
 "nbformat_minor": 2
}
